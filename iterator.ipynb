{
 "cells": [
  {
   "cell_type": "code",
   "execution_count": null,
   "metadata": {},
   "outputs": [],
   "source": [
    "my_list = [i for i in range(10)]\n",
    "list_iter = iter(my_list)\n",
    "print(next(list_iter))\n",
    "print(next(list_iter))\n",
    "print(next(list_iter))\n",
    "print(next(list_iter))\n",
    "for i in list_iter:\n",
    "    print(i)"
   ]
  },
  {
   "cell_type": "code",
   "execution_count": null,
   "metadata": {},
   "outputs": [],
   "source": [
    "from random import randint\n",
    "class RandomIter:\n",
    "    def __init__(self,limit):\n",
    "        self.limit = limit\n",
    "        self.__reload = limit\n",
    "    def __iter__(self):\n",
    "        self.limit = self.__reload\n",
    "        return self\n",
    "    def __next__(self):\n",
    "        if self.limit == 0:\n",
    "            raise StopIteration\n",
    "        self.limit = self.limit -1\n",
    "        return randint(0,100)\n",
    "\n",
    "rand = RandomIter(5)\n",
    "for i in rand:\n",
    "    print(i)"
   ]
  },
  {
   "cell_type": "code",
   "execution_count": null,
   "metadata": {},
   "outputs": [],
   "source": [
    "print(rand.limit)\n",
    "for i in rand:\n",
    "    print(i)"
   ]
  },
  {
   "cell_type": "code",
   "execution_count": 76,
   "metadata": {},
   "outputs": [],
   "source": [
    "from types import TracebackType\n",
    "class MyFile:\n",
    "    def __init__(self,path,mode,encoding = \"utf-8\"):\n",
    "        self.path= path\n",
    "        self.mode=mode\n",
    "        self.encoding=encoding\n",
    "    def __enter__(self):\n",
    "        self.f = open(self.path,self.mode,encoding =self.encoding)\n",
    "        return self.f\n",
    "    def __exit__(self,exc_type,exc_val,exc_tb: TracebackType):\n",
    "        self.f.close()\n",
    "with MyFile('readme.txt',\"w\") as f:\n",
    "    f.write(\"123\")"
   ]
  }
 ],
 "metadata": {
  "kernelspec": {
   "display_name": "Python 3",
   "language": "python",
   "name": "python3"
  },
  "language_info": {
   "codemirror_mode": {
    "name": "ipython",
    "version": 3
   },
   "file_extension": ".py",
   "mimetype": "text/x-python",
   "name": "python",
   "nbconvert_exporter": "python",
   "pygments_lexer": "ipython3",
   "version": "3.11.1"
  },
  "orig_nbformat": 4
 },
 "nbformat": 4,
 "nbformat_minor": 2
}
