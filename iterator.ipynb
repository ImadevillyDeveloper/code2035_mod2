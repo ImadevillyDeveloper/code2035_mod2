{
 "cells": [
  {
   "cell_type": "code",
   "execution_count": null,
   "metadata": {},
   "outputs": [],
   "source": [
    "my_list = [i for i in range(10)]\n",
    "list_iter = iter(my_list)\n",
    "print(next(list_iter))\n",
    "print(next(list_iter))\n",
    "print(next(list_iter))\n",
    "print(next(list_iter))\n",
    "for i in list_iter:\n",
    "    print(i)"
   ]
  },
  {
   "cell_type": "code",
   "execution_count": 68,
   "metadata": {},
   "outputs": [
    {
     "name": "stdout",
     "output_type": "stream",
     "text": [
      "48\n",
      "76\n",
      "42\n",
      "98\n",
      "19\n"
     ]
    }
   ],
   "source": [
    "from random import randint\n",
    "class RandomIter:\n",
    "    def __init__(self,limit):\n",
    "        self.limit = limit\n",
    "        self.__reload = limit\n",
    "    def __iter__(self):\n",
    "        self.limit = self.__reload\n",
    "        return self\n",
    "    def __next__(self):\n",
    "        if self.limit == 0:\n",
    "            raise StopIteration\n",
    "        self.limit = self.limit -1\n",
    "        return randint(0,100)\n",
    "\n",
    "rand = RandomIter(5)\n",
    "for i in rand:\n",
    "    print(i)"
   ]
  },
  {
   "cell_type": "code",
   "execution_count": 74,
   "metadata": {},
   "outputs": [
    {
     "name": "stdout",
     "output_type": "stream",
     "text": [
      "0\n",
      "4\n",
      "0\n",
      "26\n",
      "25\n",
      "57\n"
     ]
    }
   ],
   "source": [
    "print(rand.limit)\n",
    "for i in rand:\n",
    "    print(i)"
   ]
  }
 ],
 "metadata": {
  "kernelspec": {
   "display_name": "Python 3",
   "language": "python",
   "name": "python3"
  },
  "language_info": {
   "codemirror_mode": {
    "name": "ipython",
    "version": 3
   },
   "file_extension": ".py",
   "mimetype": "text/x-python",
   "name": "python",
   "nbconvert_exporter": "python",
   "pygments_lexer": "ipython3",
   "version": "3.11.1"
  },
  "orig_nbformat": 4
 },
 "nbformat": 4,
 "nbformat_minor": 2
}
