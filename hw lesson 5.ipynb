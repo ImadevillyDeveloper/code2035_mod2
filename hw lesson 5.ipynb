{
 "cells": [
  {
   "cell_type": "code",
   "execution_count": null,
   "metadata": {},
   "outputs": [],
   "source": [
    "from types import TracebackType\n",
    "class MyFile:\n",
    "    def __init__(self,path,mode,encoding = \"utf-8\"):\n",
    "        self.path= path\n",
    "        self.mode=mode\n",
    "        self.encoding=encoding\n",
    "    def __enter__(self):\n",
    "        self.f = open(self.path,self.mode,encoding =self.encoding)\n",
    "        return self.f\n",
    "    def __exit__(self,exc_type,exc_val,exc_tb: TracebackType):\n",
    "        self.f.close()\n",
    "with MyFile('readme.txt',\"w\") as f:\n",
    "    f.write(\"123\")"
   ]
  }
 ],
 "metadata": {
  "language_info": {
   "name": "python"
  },
  "orig_nbformat": 4
 },
 "nbformat": 4,
 "nbformat_minor": 2
}
