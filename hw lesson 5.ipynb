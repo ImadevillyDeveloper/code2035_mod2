{
 "cells": [
  {
   "cell_type": "code",
   "execution_count": 5,
   "metadata": {},
   "outputs": [],
   "source": [
    "class Person:\n",
    "    def __init__(self, name, age):\n",
    "        self.name = name\n",
    "        self.age = age\n",
    "\n",
    "    @property\n",
    "    def name(self):\n",
    "        return self.__name\n",
    "\n",
    "    @name.setter\n",
    "    def name(self, name):\n",
    "        self.__name = name\n",
    "\n",
    "    @property\n",
    "    def age(self):\n",
    "        return self.__age\n",
    "        \n",
    "    @age.setter\n",
    "    def age(self, age):\n",
    "        if age <= 0:\n",
    "            raise ValueError(\"Вы ещё не родились\")\n",
    "        self.__age = age\n",
    "\n",
    "    @name.deleter\n",
    "    def name(self):\n",
    "        del self.__name\n",
    "\n",
    "    @age.deleter\n",
    "    def age(self):\n",
    "        del self.__age"
   ]
  },
  {
   "cell_type": "code",
   "execution_count": 7,
   "metadata": {},
   "outputs": [
    {
     "name": "stdout",
     "output_type": "stream",
     "text": [
      "Иван\n"
     ]
    },
    {
     "ename": "AttributeError",
     "evalue": "'Person' object has no attribute '_Person__age'",
     "output_type": "error",
     "traceback": [
      "\u001b[0;31m---------------------------------------------------------------------------\u001b[0m",
      "\u001b[0;31mAttributeError\u001b[0m                            Traceback (most recent call last)",
      "\u001b[1;32m/Users/pattycha/code2035_mod2-5/hw lesson 5.ipynb Cell 2\u001b[0m in \u001b[0;36m<cell line: 5>\u001b[0;34m()\u001b[0m\n\u001b[1;32m      <a href='vscode-notebook-cell:/Users/pattycha/code2035_mod2-5/hw%20lesson%205.ipynb#W1sZmlsZQ%3D%3D?line=2'>3</a>\u001b[0m \u001b[39mdel\u001b[39;00m person\u001b[39m.\u001b[39mname\n\u001b[1;32m      <a href='vscode-notebook-cell:/Users/pattycha/code2035_mod2-5/hw%20lesson%205.ipynb#W1sZmlsZQ%3D%3D?line=3'>4</a>\u001b[0m \u001b[39mdel\u001b[39;00m person\u001b[39m.\u001b[39mage\n\u001b[0;32m----> <a href='vscode-notebook-cell:/Users/pattycha/code2035_mod2-5/hw%20lesson%205.ipynb#W1sZmlsZQ%3D%3D?line=4'>5</a>\u001b[0m \u001b[39mprint\u001b[39m(person\u001b[39m.\u001b[39;49mage)\n",
      "\u001b[1;32m/Users/pattycha/code2035_mod2-5/hw lesson 5.ipynb Cell 2\u001b[0m in \u001b[0;36mPerson.age\u001b[0;34m(self)\u001b[0m\n\u001b[1;32m     <a href='vscode-notebook-cell:/Users/pattycha/code2035_mod2-5/hw%20lesson%205.ipynb#W1sZmlsZQ%3D%3D?line=13'>14</a>\u001b[0m \u001b[39m@property\u001b[39m\n\u001b[1;32m     <a href='vscode-notebook-cell:/Users/pattycha/code2035_mod2-5/hw%20lesson%205.ipynb#W1sZmlsZQ%3D%3D?line=14'>15</a>\u001b[0m \u001b[39mdef\u001b[39;00m \u001b[39mage\u001b[39m(\u001b[39mself\u001b[39m):\n\u001b[0;32m---> <a href='vscode-notebook-cell:/Users/pattycha/code2035_mod2-5/hw%20lesson%205.ipynb#W1sZmlsZQ%3D%3D?line=15'>16</a>\u001b[0m     \u001b[39mreturn\u001b[39;00m \u001b[39mself\u001b[39;49m\u001b[39m.\u001b[39;49m__age\n",
      "\u001b[0;31mAttributeError\u001b[0m: 'Person' object has no attribute '_Person__age'"
     ]
    }
   ],
   "source": [
    "person = Person('Иван', 1)\n",
    "print(person.name)\n",
    "del person.name\n",
    "del person.age\n",
    "print(person.age)"
   ]
  }
 ],
 "metadata": {
  "kernelspec": {
   "display_name": "Python 3",
   "language": "python",
   "name": "python3"
  },
  "language_info": {
   "codemirror_mode": {
    "name": "ipython",
    "version": 3
   },
   "file_extension": ".py",
   "mimetype": "text/x-python",
   "name": "python",
   "nbconvert_exporter": "python",
   "pygments_lexer": "ipython3",
   "version": "3.8.9"
  },
  "orig_nbformat": 4
 },
 "nbformat": 4,
 "nbformat_minor": 2
}
