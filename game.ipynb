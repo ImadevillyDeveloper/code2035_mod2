{
 "cells": [
  {
   "cell_type": "code",
   "execution_count": 5,
   "metadata": {},
   "outputs": [
    {
     "name": "stdout",
     "output_type": "stream",
     "text": [
      "T-34 имеет лобовую броню 90мм при 100ед. здоровья и урон в 25 единиц\n",
      "Tiger имеет лобовую броню 120мм при 500ед. здоровья и урон в 34 единиц\n",
      "\n",
      "T-90:\n",
      "Командир, по экипажу T-90 попали, у нас осталось 475.0 очков здоровья\n",
      "\n",
      "T-34:\n",
      "Точно в цель, у противника T-90 осталось 475.0 единиц здоровья\n",
      "\n",
      "T-90:\n",
      "Командир, по экипажу T-90 попали, у нас осталось 462.5 очков здоровья\n",
      "\n",
      "T-34:\n",
      "Точно в цель, у противника T-90 осталось 462.5 единиц здоровья\n",
      "\n",
      "T-90:\n",
      "Командир, по экипажу T-90 попали, у нас осталось 450.0 очков здоровья\n",
      "\n",
      "T-34:\n",
      "Точно в цель, у противника T-90 осталось 450.0 единиц здоровья\n",
      "\n",
      "T-90:\n",
      "Командир, по экипажу T-90 попали, у нас осталось 437.5 очков здоровья\n",
      "\n",
      "T-34:\n",
      "Точно в цель, у противника T-90 осталось 437.5 единиц здоровья\n",
      "\n",
      "T-90:\n",
      "Командир, по экипажу T-90 попали, у нас осталось 425.0 очков здоровья\n",
      "\n",
      "T-34:\n",
      "Точно в цель, у противника T-90 осталось 425.0 единиц здоровья\n"
     ]
    }
   ],
   "source": [
    "import random\n",
    "\n",
    "class Tank:\n",
    "    def __init__(self, model, armor, min_damage, max_damage, health,crit):\n",
    "        self.model = model\n",
    "        self.armor = armor\n",
    "        self.damage = random.randint(min_damage, max_damage)\n",
    "        self.health = health\n",
    "        self.crit=crit\n",
    "    def __str__(self):\n",
    "        return f\"{self.model} имеет лобовую броню {self.armor}мм при {self.health}ед. здоровья и урон в {self.damage} единиц\"\n",
    "    def health_down(self,enemy_damage):\n",
    "        self.health -= enemy_damage\n",
    "        print(f\"\\n{self.model}:\")\n",
    "        print(f\"Командир, по экипажу {self.model} попали, у нас осталось {self.health} очков здоровья\")\n",
    "    def shot(self,enemy):\n",
    "        x = random.randint(0,100)\n",
    "        d = self.damage if x>=self.crit else 2*self.damage\n",
    "        if enemy.health <= 0 or d>= enemy.health:\n",
    "            enemy.health = 0\n",
    "            print(f\"Экипаж танка {enemy.model} уничтожен\")\n",
    "        else:\n",
    "            enemy.health_down(d)\n",
    "            print(f\"\\n{self.model}:\")\n",
    "            print(f\"Точно в цель, у противника {enemy.model} осталось {enemy.health} единиц здоровья\")\n",
    "\n",
    "class MegaTank(Tank):\n",
    "    def __init__(self, model, armor, min_damage, max_damage, health, crit):\n",
    "        super().__init__(model, armor, min_damage, max_damage, health, crit)\n",
    "        self.forceArmor = True\n",
    "    def health_down(self, enemy_damage):\n",
    "        super().health_down(enemy_damage/2)\n",
    "\n",
    "tank1= Tank(\"T-34\",90,20,30,100,50)\n",
    "tank2= Tank(\"Tiger\",120,10,40,500,20)\n",
    "tank3= MegaTank(\"T-90\",120,10,40,500,20)\n",
    "print(tank1)\n",
    "print(tank2)\n",
    "tank1.shot(tank3)\n",
    "tank1.shot(tank3)\n",
    "tank1.shot(tank3)\n",
    "tank1.shot(tank3)\n",
    "tank1.shot(tank3)\n",
    "    "
   ]
  }
 ],
 "metadata": {
  "kernelspec": {
   "display_name": "Python 3",
   "language": "python",
   "name": "python3"
  },
  "language_info": {
   "codemirror_mode": {
    "name": "ipython",
    "version": 3
   },
   "file_extension": ".py",
   "mimetype": "text/x-python",
   "name": "python",
   "nbconvert_exporter": "python",
   "pygments_lexer": "ipython3",
   "version": "3.11.1 (v3.11.1:a7a450f84a, Dec  6 2022, 15:24:06) [Clang 13.0.0 (clang-1300.0.29.30)]"
  },
  "orig_nbformat": 4,
  "vscode": {
   "interpreter": {
    "hash": "aee8b7b246df8f9039afb4144a1f6fd8d2ca17a180786b69acc140d282b71a49"
   }
  }
 },
 "nbformat": 4,
 "nbformat_minor": 2
}
