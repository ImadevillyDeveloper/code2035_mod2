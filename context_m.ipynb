{
 "cells": [
  {
   "cell_type": "code",
   "execution_count": null,
   "metadata": {},
   "outputs": [],
   "source": [
    "from time import time\n",
    "from types import TracebackType\n",
    "\n",
    "class RunningJudge:\n",
    "    def __init__(self):\n",
    "        self.start = None\n",
    "    def __enter__(self):\n",
    "        self.start = time()\n",
    "        return \"I'm in context manager enter method\"\n",
    "    def __exit__(self,exc_type,exc_val,exc_tb: TracebackType):\n",
    "        print(f\"Work time: {time()-self.start} sec.\")\n",
    "        if exc_type is TypeError:\n",
    "            return True\n",
    "    def __str__(self):return \"I'm timer!\"\n",
    "\n",
    "print(RunningJudge())\n",
    "with RunningJudge() as t:\n",
    "    print(t)\n",
    "    my_list = [x**2 for x in range(10_000_000)]\n",
    "    my_list -= \"some string\"\n",
    "\n",
    "print(\"out of context block\")"
   ]
  }
 ],
 "metadata": {
  "kernelspec": {
   "display_name": "Python 3",
   "language": "python",
   "name": "python3"
  },
  "language_info": {
   "codemirror_mode": {
    "name": "ipython",
    "version": 3
   },
   "file_extension": ".py",
   "mimetype": "text/x-python",
   "name": "python",
   "nbconvert_exporter": "python",
   "pygments_lexer": "ipython3",
   "version": "3.11.1"
  },
  "orig_nbformat": 4
 },
 "nbformat": 4,
 "nbformat_minor": 2
}
