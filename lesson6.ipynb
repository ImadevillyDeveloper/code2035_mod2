{
 "cells": [
  {
   "attachments": {},
   "cell_type": "markdown",
   "metadata": {},
   "source": [
    "http://www.cbr.ru/scripts/XML_daily.asp?date_req=02/03/2002"
   ]
  },
  {
   "cell_type": "code",
   "execution_count": 10,
   "metadata": {},
   "outputs": [
    {
     "name": "stdout",
     "output_type": "stream",
     "text": [
      "70,3847 рублей за 1 доллар\n",
      "76,7344 рублей за 1 евро\n",
      "10,4217 рублей за 10 юаней\n"
     ]
    },
    {
     "name": "stderr",
     "output_type": "stream",
     "text": [
      "/Users/pattycha/Library/Python/3.8/lib/python/site-packages/bs4/builder/__init__.py:545: XMLParsedAsHTMLWarning: It looks like you're parsing an XML document using an HTML parser. If this really is an HTML document (maybe it's XHTML?), you can ignore or filter this warning. If it's XML, you should know that using an XML parser will be more reliable. To parse this document as XML, make sure you have the lxml package installed, and pass the keyword argument `features=\"xml\"` into the BeautifulSoup constructor.\n",
      "  warnings.warn(\n"
     ]
    }
   ],
   "source": [
    "import requests as req\n",
    "from bs4 import BeautifulSoup\n",
    "def get_cource(id):\n",
    "    return xml.find(\"valute\",{\"id\": id}).value.text\n",
    "url = \"http://www.cbr.ru/scripts/XML_daily.asp?\"\n",
    "date = \"date_req=04/02/2023\"\n",
    "responce = req.get(url+date)\n",
    "xml = BeautifulSoup(responce.content,\"lxml\" )\n",
    "print(f\"{get_cource('R01235')} рублей за 1 доллар\")\n",
    "print(f\"{get_cource('R01239')} рублей за 1 евро\")\n",
    "print(f\"{get_cource('R01375')} рублей за 10 юаней\")\n"
   ]
  }
 ],
 "metadata": {
  "kernelspec": {
   "display_name": "Python 3",
   "language": "python",
   "name": "python3"
  },
  "language_info": {
   "codemirror_mode": {
    "name": "ipython",
    "version": 3
   },
   "file_extension": ".py",
   "mimetype": "text/x-python",
   "name": "python",
   "nbconvert_exporter": "python",
   "pygments_lexer": "ipython3",
   "version": "3.8.9"
  },
  "orig_nbformat": 4,
  "vscode": {
   "interpreter": {
    "hash": "31f2aee4e71d21fbe5cf8b01ff0e069b9275f58929596ceb00d14d90e3e16cd6"
   }
  }
 },
 "nbformat": 4,
 "nbformat_minor": 2
}
