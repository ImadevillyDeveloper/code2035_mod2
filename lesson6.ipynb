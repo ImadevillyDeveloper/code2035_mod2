{
 "cells": [
  {
   "attachments": {},
   "cell_type": "markdown",
   "metadata": {},
   "source": [
    "http://www.cbr.ru/scripts/XML_daily.asp?date_req=02/03/2002"
   ]
  },
  {
   "cell_type": "code",
   "execution_count": 9,
   "metadata": {},
   "outputs": [
    {
     "name": "stdout",
     "output_type": "stream",
     "text": [
      "70,3847 рублей за 1 доллар\n",
      "76,7344 рублей за 1 евро\n",
      "10,4217 рублей за 10 юаней\n"
     ]
    }
   ],
   "source": [
    "import requests as req\n",
    "from bs4 import BeautifulSoup as bs\n",
    "def get_cource(id):\n",
    "    return xml.find(\"valute\",{\"id\": id}).value.text\n",
    "url = \"http://www.cbr.ru/scripts/XML_daily.asp?\"\n",
    "date = \"date_req=04/02/2023\"\n",
    "responce = req.get(url+date)\n",
    "xml = bs(responce.content,\"lxml\" )\n",
    "print(f\"{get_cource('R01235')} рублей за 1 доллар\")\n",
    "print(f\"{get_cource('R01239')} рублей за 1 евро\")\n",
    "print(f\"{get_cource('R01375')} рублей за 10 юаней\")\n"
   ]
  }
 ],
 "metadata": {
  "kernelspec": {
   "display_name": "Python 3",
   "language": "python",
   "name": "python3"
  },
  "language_info": {
   "codemirror_mode": {
    "name": "ipython",
    "version": 3
   },
   "file_extension": ".py",
   "mimetype": "text/x-python",
   "name": "python",
   "nbconvert_exporter": "python",
   "pygments_lexer": "ipython3",
   "version": "3.8.9"
  },
  "orig_nbformat": 4,
  "vscode": {
   "interpreter": {
    "hash": "31f2aee4e71d21fbe5cf8b01ff0e069b9275f58929596ceb00d14d90e3e16cd6"
   }
  }
 },
 "nbformat": 4,
 "nbformat_minor": 2
}
