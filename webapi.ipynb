{
 "cells": [
  {
   "cell_type": "code",
   "execution_count": 30,
   "metadata": {},
   "outputs": [
    {
     "name": "stdout",
     "output_type": "stream",
     "text": [
      "[{'CR90 corvette': '950'}, {'Star Destroyer': '975'}, {'Sentinel-class landing craft': '1000'}, {'Death Star': 'n/a'}, {'Millennium Falcon': '1050'}]\n",
      "<class 'int'>\n",
      "<class 'int'>\n",
      "<class 'int'>\n",
      "<class 'int'>\n",
      "<class 'int'>\n",
      "Millennium Falcon 1050\n"
     ]
    }
   ],
   "source": [
    "import requests\n",
    "import json\n",
    "url=\"https://swapi.dev/api/\"\n",
    "responce=requests.get(url).json()\n",
    "people_api=responce.get(\"people\")\n",
    "planets_api=responce.get(\"planets\")\n",
    "starships_api=responce.get(\"starships\")\n",
    "def check_people(url):\n",
    "    for i in range(1,6):\n",
    "        responce = requests.get(f\"{url}/{i}\").json()\n",
    "        print(responce)\n",
    "def check_planets(url):\n",
    "    d_list=[]\n",
    "    for i in range(1,6):\n",
    "        responce = requests.get(f\"{url}/{i}\").json()\n",
    "        d_list.append({responce.get(\"name\"):responce.get(\"diameter\")})\n",
    "    print(d_list)\n",
    "def check_starships(url):\n",
    "    j=0\n",
    "    starsh=[]\n",
    "    for i in range(1,100):\n",
    "        responce = requests.get(f\"{url}/{i}\").json()\n",
    "        if len(responce)>1:\n",
    "            j+=1\n",
    "            starsh.append({responce.get(\"name\"):responce.get('max_atmosphering_speed')})\n",
    "        if j==5:break\n",
    "    print(starsh)\n",
    "    return starsh\n",
    "#check_people(starships_api)\n",
    "st = check_starships(starships_api)\n",
    "a=\"\"\n",
    "b=0\n",
    "for i in st:\n",
    "    if i[list(i.keys())[0]]==\"n/a\":i[list(i.keys())[0]]=\"0\"\n",
    "    print(type(int(i[list(i.keys())[0]])))\n",
    "    if int(i[list(i.keys())[0]])>b:\n",
    "            a=list(i.keys())[0]\n",
    "            b=int(i[list(i.keys())[0]])\n",
    "print(a,b)"
   ]
  },
  {
   "cell_type": "code",
   "execution_count": 31,
   "metadata": {},
   "outputs": [
    {
     "name": "stdout",
     "output_type": "stream",
     "text": [
      "Ночь\n"
     ]
    }
   ],
   "source": [
    "hour = 1\n",
    "\n",
    "if hour > 12 and hour <= 16:\n",
    "\tprint(\"День\")\n",
    "elif hour > 16 and hour <=23:\n",
    "\tprint(\"Вечер\")\n",
    "elif hour > 23 or hour <= 3:\n",
    "\tprint(\"Ночь\")\n",
    "elif hour > 3 and hour <= 12:\n",
    "\tprint(\"Утро\")\n",
    "\n",
    "\n",
    "a = int(input())\n",
    "b = int(input())\n",
    "c = int(input())\n",
    "if a>b and b>c:\n",
    "    print(a,c)\n",
    "elif a>b and a>c:\n",
    "    print(a,b)"
   ]
  }
 ],
 "metadata": {
  "kernelspec": {
   "display_name": "Python 3",
   "language": "python",
   "name": "python3"
  },
  "language_info": {
   "codemirror_mode": {
    "name": "ipython",
    "version": 3
   },
   "file_extension": ".py",
   "mimetype": "text/x-python",
   "name": "python",
   "nbconvert_exporter": "python",
   "pygments_lexer": "ipython3",
   "version": "3.8.9"
  },
  "orig_nbformat": 4,
  "vscode": {
   "interpreter": {
    "hash": "31f2aee4e71d21fbe5cf8b01ff0e069b9275f58929596ceb00d14d90e3e16cd6"
   }
  }
 },
 "nbformat": 4,
 "nbformat_minor": 2
}
