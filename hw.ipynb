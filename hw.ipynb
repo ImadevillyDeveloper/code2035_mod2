{
 "cells": [
  {
   "cell_type": "code",
   "execution_count": 6,
   "metadata": {},
   "outputs": [
    {
     "name": "stdout",
     "output_type": "stream",
     "text": [
      "[2, 4]\n",
      "[1, 3, 5]\n"
     ]
    }
   ],
   "source": [
    "l = [int(input(\"Введите число\")) for i in range(5)]\n",
    "ch = [i for i in l if i%2==0]\n",
    "nch = [i for i in l if i not in ch]\n",
    "print(ch)\n",
    "print(nch)"
   ]
  },
  {
   "cell_type": "code",
   "execution_count": 8,
   "metadata": {},
   "outputs": [
    {
     "name": "stdout",
     "output_type": "stream",
     "text": [
      "<class 'tuple'>\n"
     ]
    }
   ],
   "source": [
    "a = (5, 3, 2, 1, 4)\n",
    "a = tuple(sorted(a))\n",
    "print(a)"
   ]
  },
  {
   "cell_type": "code",
   "execution_count": 4,
   "metadata": {},
   "outputs": [
    {
     "name": "stdout",
     "output_type": "stream",
     "text": [
      "[1, 2, 3, 4, 5]\n"
     ]
    }
   ],
   "source": [
    "l = list(map(int,l))\n",
    "print(l)"
   ]
  },
  {
   "cell_type": "code",
   "execution_count": 11,
   "metadata": {},
   "outputs": [
    {
     "name": "stdout",
     "output_type": "stream",
     "text": [
      "[(1, 4), (2, 5), (3, 6), (3, 4)]\n"
     ]
    }
   ],
   "source": [
    "a = [1,2,3,3]\n",
    "b = [4,5,6,4,5,6]\n",
    "c = list(zip(a,b))\n",
    "print(c)"
   ]
  },
  {
   "cell_type": "code",
   "execution_count": 13,
   "metadata": {},
   "outputs": [
    {
     "name": "stdout",
     "output_type": "stream",
     "text": [
      "Это полиндром\n",
      "['S', 'O', 'S']\n",
      "['S', 'O', 'S']\n"
     ]
    }
   ],
   "source": [
    "polindrom = input()\n",
    "polindrom = polindrom.replace(' ', '')\n",
    "polindrom_low = polindrom.lower()\n",
    "polindrom_first = []\n",
    "for i in range(len(polindrom)):\n",
    "    polindrom_first.append(polindrom[i])\n",
    "polindrom_last = polindrom_first[::-1]\n",
    "if polindrom_first == polindrom_last:\n",
    "    print('Это полиндром')\n",
    "else:\n",
    "    print('Это не полиндром')\n",
    "print(polindrom_first)\n",
    "print(polindrom_last)"
   ]
  },
  {
   "cell_type": "code",
   "execution_count": 5,
   "metadata": {},
   "outputs": [
    {
     "name": "stdout",
     "output_type": "stream",
     "text": [
      " это  полиндром\n"
     ]
    }
   ],
   "source": [
    "polindrom_first = input().replace(' ', '').lower()\n",
    "print('Это полиндром' if polindrom_first == polindrom_first[::-1] else 'Это не полиндром')"
   ]
  }
 ],
 "metadata": {
  "kernelspec": {
   "display_name": "Python 3",
   "language": "python",
   "name": "python3"
  },
  "language_info": {
   "codemirror_mode": {
    "name": "ipython",
    "version": 3
   },
   "file_extension": ".py",
   "mimetype": "text/x-python",
   "name": "python",
   "nbconvert_exporter": "python",
   "pygments_lexer": "ipython3",
   "version": "3.11.1"
  },
  "orig_nbformat": 4,
  "vscode": {
   "interpreter": {
    "hash": "aee8b7b246df8f9039afb4144a1f6fd8d2ca17a180786b69acc140d282b71a49"
   }
  }
 },
 "nbformat": 4,
 "nbformat_minor": 2
}
