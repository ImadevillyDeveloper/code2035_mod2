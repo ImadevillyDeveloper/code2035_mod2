{
 "cells": [
  {
   "cell_type": "code",
   "execution_count": null,
   "metadata": {},
   "outputs": [],
   "source": [
    "filtrted_items_list = filter(lambda x:x.brand==\"Apple\",items_list)\n",
    "for i in filtrted_items_list:\n",
    "    print(i)"
   ]
  },
  {
   "cell_type": "code",
   "execution_count": 5,
   "metadata": {},
   "outputs": [
    {
     "name": "stdout",
     "output_type": "stream",
     "text": [
      "900, Samsung\n",
      "700, Samsung\n"
     ]
    }
   ],
   "source": [
    "class Item:\n",
    "    def __init__(self, price, brand):\n",
    "        self.price = price\n",
    "        self.brand = brand\n",
    "\n",
    "    def __repr__(self):\n",
    "        return self.brand\n",
    "    \n",
    "    #Чтобы выводился не только бренд, но и цена предмета\n",
    "    def __str__(self):\n",
    "        return f\"{self.price}, {self.brand}\"\n",
    "    \n",
    "items_list = [\n",
    "    Item(1000, \"Apple\"),\n",
    "    Item(1200, \"Apple\"),\n",
    "    Item(900, \"Samsung\"),\n",
    "    Item(700, \"Samsung\"),\n",
    "    Item(660, \"Xiaomi\")\n",
    "]\n",
    "\n",
    "result = filter(lambda x:x.brand==\"Samsung\",items_list)\n",
    "\n",
    "for i in result:\n",
    "    print(i)"
   ]
  },
  {
   "cell_type": "code",
   "execution_count": 18,
   "metadata": {},
   "outputs": [
    {
     "name": "stdout",
     "output_type": "stream",
     "text": [
      "<map object at 0x10976a200>\n"
     ]
    }
   ],
   "source": [
    "names_list = ['данил', 'артём', 'никита', 'влад']\n",
    "for i in range (100000000):\n",
    "    result = map(str.capitalize, names_list)\n",
    "print(result)"
   ]
  },
  {
   "cell_type": "code",
   "execution_count": 19,
   "metadata": {},
   "outputs": [
    {
     "name": "stdout",
     "output_type": "stream",
     "text": [
      "<generator object <genexpr> at 0x10970f2a0>\n"
     ]
    }
   ],
   "source": [
    "names_list = ['данил', 'артём', 'никита', 'влад']\n",
    "for i in range (100000000):\n",
    "    result = (name.capitalize() for name in names_list)\n",
    "print(result)\n"
   ]
  },
  {
   "cell_type": "code",
   "execution_count": null,
   "metadata": {},
   "outputs": [],
   "source": [
    "names_list = ['данил', 'артём', 'никита', 'влад']\n",
    "names_list = [name.capitalize() for name in names_list]\n",
    "print(names_list)"
   ]
  },
  {
   "cell_type": "code",
   "execution_count": 24,
   "metadata": {},
   "outputs": [
    {
     "name": "stdout",
     "output_type": "stream",
     "text": [
      "2.0041686708353376e-09, SUMM\n"
     ]
    }
   ],
   "source": [
    "from functools import reduce\n",
    "class Item:\n",
    "    def __init__(self, price, brand):\n",
    "        self.price = price\n",
    "        self.brand = brand\n",
    "\n",
    "    def __repr__(self):\n",
    "        return self.brand\n",
    "    \n",
    "    #Чтобы выводился не только бренд, но и цена предмета\n",
    "    def __str__(self):\n",
    "        return f\"{self.price}, {self.brand}\"\n",
    "    \n",
    "items_list = [\n",
    "    Item(1000, \"Apple\"),\n",
    "    Item(1200, \"Apple\"),\n",
    "    Item(900, \"Samsung\"),\n",
    "    Item(700, \"Samsung\"),\n",
    "    Item(660, \"Xiaomi\")\n",
    "]\n",
    "s = reduce(lambda x,y:Item(x.price/y.price,\"SUMM\"),items_list)\n",
    "print(s)"
   ]
  }
 ],
 "metadata": {
  "kernelspec": {
   "display_name": "Python 3",
   "language": "python",
   "name": "python3"
  },
  "language_info": {
   "codemirror_mode": {
    "name": "ipython",
    "version": 3
   },
   "file_extension": ".py",
   "mimetype": "text/x-python",
   "name": "python",
   "nbconvert_exporter": "python",
   "pygments_lexer": "ipython3",
   "version": "3.11.1"
  },
  "orig_nbformat": 4
 },
 "nbformat": 4,
 "nbformat_minor": 2
}
