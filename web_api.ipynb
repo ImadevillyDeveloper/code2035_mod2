{
 "cells": [
  {
   "cell_type": "code",
   "execution_count": null,
   "metadata": {},
   "outputs": [],
   "source": [
    "import requests\n",
    "import json\n",
    "url=\"https://swapi.dev/api/\"\n",
    "responce=requests.get(url).json()\n",
    "people_api=responce.get(\"people\")\n",
    "planets_api=responce.get(\"planets\")\n",
    "starships_api=responce.get(\"starships\")\n",
    "def check_people(url):\n",
    "    for i in range(1,6):\n",
    "        responce = requests.get(f\"{url}/{i}\").json()\n",
    "        print(responce)\n",
    "def check_planets(url):\n",
    "    d_list=[]\n",
    "    for i in range(1,6):\n",
    "        responce = requests.get(f\"{url}/{i}\").json()\n",
    "        d_list.append({responce.get(\"name\"):responce.get(\"diameter\")})\n",
    "    print(d_list)\n",
    "def check_starships(url):\n",
    "    j=0\n",
    "    starsh=[]\n",
    "    for i in range(1,100):\n",
    "        responce = requests.get(f\"{url}/{i}\").json()\n",
    "        if len(responce)>1:\n",
    "            j+=1\n",
    "            starsh.append({responce.get(\"name\"):responce.get('max_atmosphering_speed')})\n",
    "        if j==5:break\n",
    "    print(starsh)\n",
    "    return starsh\n",
    "#check_people(starships_api)\n",
    "st = check_starships(starships_api)\n",
    "a=\"\"\n",
    "b=0\n",
    "for i in st:\n",
    "    if i[list(i.keys())[0]]==\"n/a\":i[list(i.keys())[0]]=\"0\"\n",
    "    print(type(int(i[list(i.keys())[0]])))\n",
    "    if int(i[list(i.keys())[0]])>b:\n",
    "            a=list(i.keys())[0]\n",
    "            b=int(i[list(i.keys())[0]])\n",
    "print(a,b)"
   ]
  }
 ],
 "metadata": {
  "language_info": {
   "name": "python"
  },
  "orig_nbformat": 4
 },
 "nbformat": 4,
 "nbformat_minor": 2
}
