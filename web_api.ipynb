{
 "cells": [
  {
   "cell_type": "code",
   "execution_count": null,
   "metadata": {},
   "outputs": [],
   "source": [
    "import requests\n",
    "import json\n",
    "url=\"https://swapi.dev/api/\"\n",
    "responce=requests.get(url).json()\n",
    "people_api=responce.get(\"people\")\n",
    "planets_api=responce.get(\"planets\")\n",
    "starships_api=responce.get(\"starships\")\n",
    "def check_people(url):\n",
    "    for i in range(1,6):\n",
    "        responce = requests.get(f\"{url}/{i}\").json()\n",
    "        print(responce)\n",
    "def check_planets(url):\n",
    "    d_list=[]\n",
    "    for i in range(1,6):\n",
    "        responce = requests.get(f\"{url}/{i}\").json()\n",
    "        d_list.append({responce.get(\"name\"):responce.get(\"diameter\")})\n",
    "    print(d_list)\n",
    "def check_starships(url):\n",
    "    j=0\n",
    "    starsh=[]\n",
    "    for i in range(1,100):\n",
    "        responce = requests.get(f\"{url}/{i}\").json()\n",
    "        if len(responce)>1:\n",
    "            j+=1\n",
    "            starsh.append({responce.get(\"name\"):responce.get('max_atmosphering_speed')})\n",
    "        if j==5:break\n",
    "    print(starsh)\n",
    "    return starsh\n",
    "#check_people(starships_api)\n",
    "st = check_starships(starships_api)\n",
    "a=\"\"\n",
    "b=0\n",
    "for i in st:\n",
    "    if i[list(i.keys())[0]]==\"n/a\":i[list(i.keys())[0]]=\"0\"\n",
    "    print(type(int(i[list(i.keys())[0]])))\n",
    "    if int(i[list(i.keys())[0]])>b:\n",
    "            a=list(i.keys())[0]\n",
    "            b=int(i[list(i.keys())[0]])\n",
    "print(a,b)"
   ]
  }
 ],
 "metadata": {
  "kernelspec": {
   "display_name": "Python 3",
   "language": "python",
   "name": "python3"
  },
  "language_info": {
   "name": "python",
   "version": "3.11.1 (v3.11.1:a7a450f84a, Dec  6 2022, 15:24:06) [Clang 13.0.0 (clang-1300.0.29.30)]"
  },
  "orig_nbformat": 4,
  "vscode": {
   "interpreter": {
    "hash": "aee8b7b246df8f9039afb4144a1f6fd8d2ca17a180786b69acc140d282b71a49"
   }
  }
 },
 "nbformat": 4,
 "nbformat_minor": 2
}
