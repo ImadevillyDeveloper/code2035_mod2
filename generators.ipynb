{
 "cells": [
  {
   "cell_type": "code",
   "execution_count": 25,
   "metadata": {},
   "outputs": [
    {
     "name": "stdout",
     "output_type": "stream",
     "text": [
      "[1, 2, 3]\n"
     ]
    }
   ],
   "source": [
    "# x = range(100)\n",
    "x = [1,4,3,2,5,6,3,6]\n",
    "#x = (1,4,3,2,5,6,3,6)\n",
    "# x = {\"1\":1,2:\"2\"}\n",
    "# x = \"String\"\n",
    "# x=set([1,2,2,3])\n",
    "l = [i for i in x]\n",
    "# for i in range(100):\n",
    "#     if i%2!=0 and i%3==0:\n",
    "#         l.append(i)\n",
    "print(l)"
   ]
  },
  {
   "cell_type": "code",
   "execution_count": 31,
   "metadata": {},
   "outputs": [
    {
     "name": "stdout",
     "output_type": "stream",
     "text": [
      "{'apple': 5, 'orange': 6, 'kiwi': 4}\n"
     ]
    }
   ],
   "source": [
    "l = ['apple','orange','kiwi',5]\n",
    "dct = {i:len(i) for i in l if type(i)==str}\n",
    "# for i in l:\n",
    "#     dct.update({i:len(i)})\n",
    "print(dct)"
   ]
  },
  {
   "cell_type": "code",
   "execution_count": null,
   "metadata": {},
   "outputs": [],
   "source": []
  }
 ],
 "metadata": {
  "kernelspec": {
   "display_name": "Python 3",
   "language": "python",
   "name": "python3"
  },
  "language_info": {
   "codemirror_mode": {
    "name": "ipython",
    "version": 3
   },
   "file_extension": ".py",
   "mimetype": "text/x-python",
   "name": "python",
   "nbconvert_exporter": "python",
   "pygments_lexer": "ipython3",
   "version": "3.11.1"
  },
  "orig_nbformat": 4,
  "vscode": {
   "interpreter": {
    "hash": "aee8b7b246df8f9039afb4144a1f6fd8d2ca17a180786b69acc140d282b71a49"
   }
  }
 },
 "nbformat": 4,
 "nbformat_minor": 2
}
