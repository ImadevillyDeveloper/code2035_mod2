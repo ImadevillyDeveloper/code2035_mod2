{
 "cells": [
  {
   "cell_type": "code",
   "execution_count": null,
   "metadata": {},
   "outputs": [],
   "source": [
    "my_list = (x**2 for x in range(1_000_000))\n",
    "# my_courtege = (1,2,3,4)\n",
    "# print(type(my_list))\n",
    "\n",
    "# for i in my_list:\n",
    "#     if i: print(i)"
   ]
  },
  {
   "cell_type": "code",
   "execution_count": 17,
   "metadata": {},
   "outputs": [],
   "source": [
    "from time import sleep,time\n",
    "a =(sleep(x) for x in range(6))"
   ]
  },
  {
   "cell_type": "code",
   "execution_count": null,
   "metadata": {},
   "outputs": [],
   "source": [
    "def gen():\n",
    "    for number in range(1_000_000):\n",
    "        yield number**2\n",
    "\n",
    "# print(type(gen))\n",
    "for i in gen():\n",
    "    if i: print(i)"
   ]
  },
  {
   "cell_type": "code",
   "execution_count": null,
   "metadata": {},
   "outputs": [],
   "source": [
    "import time\n",
    "start_1 = time.time()\n",
    "def generator_sqr():\n",
    "    i = 0\n",
    "    while i <= 10**6:\n",
    "        n = i**2\n",
    "        i += 1\n",
    "        yield n\n",
    "for n in generator_sqr():\n",
    "    print(n)\n",
    "end_1 = time.time() - start_1\n",
    "with open('вермя выполнения.txt', 'a') as f:\n",
    "    f.write(f\"{end_1:.{5}f}\")"
   ]
  },
  {
   "cell_type": "code",
   "execution_count": 22,
   "metadata": {},
   "outputs": [
    {
     "name": "stdout",
     "output_type": "stream",
     "text": [
      "(1 шт.) Австралийский доллар  стоит(ят) 55,2845  руб.\n"
     ]
    }
   ],
   "source": [
    "from contextlib import contextmanager\n",
    "from bs4 import BeautifulSoup \n",
    "import requests\n",
    "@contextmanager\n",
    "def get_c_info(v_id):\n",
    "    response = requests.get(\"http://www.cbr.ru/scripts/XML_daily.asp\")\n",
    "    soup = BeautifulSoup(response.content, features=\"xml\")\n",
    "    try:\n",
    "        c = soup.find(\"Valute\",ID = v_id)\n",
    "        ans = f\"({c.Nominal.text} шт.) {c.Name.text}  стоит(ят) {c.Value.text}  руб.\"\n",
    "    except AttributeError:\n",
    "        ans = \"Valute not found\"\n",
    "    yield ans\n",
    "\n",
    "with get_c_info(\"R01010\") as cur:\n",
    "    print(cur)"
   ]
  }
 ],
 "metadata": {
  "kernelspec": {
   "display_name": "Python 3",
   "language": "python",
   "name": "python3"
  },
  "language_info": {
   "codemirror_mode": {
    "name": "ipython",
    "version": 3
   },
   "file_extension": ".py",
   "mimetype": "text/x-python",
   "name": "python",
   "nbconvert_exporter": "python",
   "pygments_lexer": "ipython3",
   "version": "3.11.1"
  },
  "orig_nbformat": 4
 },
 "nbformat": 4,
 "nbformat_minor": 2
}
