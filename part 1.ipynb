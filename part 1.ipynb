{
 "cells": [
  {
   "cell_type": "code",
   "execution_count": 9,
   "metadata": {},
   "outputs": [
    {
     "name": "stdout",
     "output_type": "stream",
     "text": [
      "Кошка Sherlok\n"
     ]
    }
   ],
   "source": [
    "# name = \"Ivan\"\n",
    "# color_of_hair = 'red'\n",
    "# pol = \"M\"\n",
    "# height = 190\n",
    "# weight = 90\n",
    "# clothes = 'yellow'\n",
    "# money = 100\n",
    "\n",
    "class Animal:\n",
    "    def __init__(self, name,height, weight):\n",
    "        self.name = name\n",
    "        self.height=height\n",
    "        self.weight=weight\n",
    "    def breathe(self):\n",
    "        print(f\"{self.name} усиленно дышит!\")\n",
    "\n",
    "class Cat(Animal):\n",
    "    def __init__(self, name,height, weight,lives=9):\n",
    "        super().__init__(name,height, weight)\n",
    "        self.lives=lives\n",
    "    def breathe(self):\n",
    "        print(f\"{self.name} тихонько дышит\")\n",
    "    def meow(self):\n",
    "        print(f\"{self.name} говорит МЯЯЯЯЯУ!\")\n",
    "    def __str__(self):\n",
    "        return(f\"Кошка {self.name}\")\n",
    "\n",
    "an = Animal(\"Mark\",120,35)\n",
    "c = Cat(\"Sherlok\",40,4)\n",
    "\n",
    "print(c)\n",
    "\n"
   ]
  }
 ],
 "metadata": {
  "kernelspec": {
   "display_name": "Python 3",
   "language": "python",
   "name": "python3"
  },
  "language_info": {
   "codemirror_mode": {
    "name": "ipython",
    "version": 3
   },
   "file_extension": ".py",
   "mimetype": "text/x-python",
   "name": "python",
   "nbconvert_exporter": "python",
   "pygments_lexer": "ipython3",
   "version": "3.11.1"
  },
  "orig_nbformat": 4,
  "vscode": {
   "interpreter": {
    "hash": "aee8b7b246df8f9039afb4144a1f6fd8d2ca17a180786b69acc140d282b71a49"
   }
  }
 },
 "nbformat": 4,
 "nbformat_minor": 2
}
