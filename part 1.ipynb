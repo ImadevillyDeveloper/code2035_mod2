{
 "cells": [
  {
   "cell_type": "code",
   "execution_count": 1,
   "metadata": {},
   "outputs": [
    {
     "name": "stdout",
     "output_type": "stream",
     "text": [
      "0\n"
     ]
    }
   ],
   "source": [
    "# name = \"Ivan\"\n",
    "# color_of_hair = 'red'\n",
    "# pol = \"M\"\n",
    "# height = 190\n",
    "# weight = 90\n",
    "# clothes = 'yellow'\n",
    "# money = 100\n",
    "\n",
    "class Human:\n",
    "    count=0\n",
    "    def __init__(self, name, color_of_hair, height, weight):\n",
    "        self.name = name\n",
    "        self.color_of_hair = color_of_hair\n",
    "        self.height=height\n",
    "        self.weight=weight\n",
    "\n",
    "person1 = Human('Ivan','red',190,90)\n",
    "print(Human.count)\n",
    "\n"
   ]
  }
 ],
 "metadata": {
  "kernelspec": {
   "display_name": "Python 3",
   "language": "python",
   "name": "python3"
  },
  "language_info": {
   "codemirror_mode": {
    "name": "ipython",
    "version": 3
   },
   "file_extension": ".py",
   "mimetype": "text/x-python",
   "name": "python",
   "nbconvert_exporter": "python",
   "pygments_lexer": "ipython3",
   "version": "3.8.9"
  },
  "orig_nbformat": 4,
  "vscode": {
   "interpreter": {
    "hash": "31f2aee4e71d21fbe5cf8b01ff0e069b9275f58929596ceb00d14d90e3e16cd6"
   }
  }
 },
 "nbformat": 4,
 "nbformat_minor": 2
}
