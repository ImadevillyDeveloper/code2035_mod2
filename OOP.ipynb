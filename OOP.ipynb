{
 "cells": [
  {
   "cell_type": "code",
   "execution_count": 1,
   "metadata": {},
   "outputs": [
    {
     "name": "stdout",
     "output_type": "stream",
     "text": [
      "Дом номер 1\n",
      "Цвет крыши: green\n",
      "Цвет стен: yellow\n",
      "Дом номер 2\n",
      "Цвет крыши: lavender\n",
      "Цвет стен: azure\n"
     ]
    }
   ],
   "source": [
    "from tkinter import *\n",
    "\n",
    "window = Tk()\n",
    "window.geometry('800x600')\n",
    "\n",
    "\n",
    "canvas = Canvas(window, width=800,height=600,bg='white')\n",
    "canvas.pack()\n",
    "class House:\n",
    "    def __init__(self,roof_color,wall_color, number):\n",
    "        self.number = number\n",
    "        self.roof_color = roof_color\n",
    "        self.wall_color = wall_color\n",
    "        self.height = 130\n",
    "        self.width = 140\n",
    "        self.roof = None\n",
    "        self.wall = None\n",
    "\n",
    "    def build_house(self, x, y):\n",
    "        h = self.height\n",
    "        w = self.width\n",
    "\n",
    "        self.roof = canvas.create_polygon(x, y, x + w, y, x + w/2, h - 100, fill=self.roof_color)\n",
    "        self.wall = canvas.create_rectangle(x+20, y, x + 120, y + 100, fill=self.wall_color, outline='')\n",
    "\n",
    "    def print_info(self):\n",
    "        print('Дом номер ' + str(self.number))\n",
    "        print('Цвет крыши: ' + self.roof_color)\n",
    "        print('Цвет стен: ' + self.wall_color)\n",
    "\n",
    "\n",
    "\n",
    "house_1 = House('green', 'yellow', 1)\n",
    "house_2 = House('lavender', 'azure', 2)\n",
    "house_1.build_house(20, 50)\n",
    "house_2.build_house(180, 50)\n",
    "house_1.print_info()\n",
    "house_2.print_info()\n",
    "window.mainloop()"
   ]
  }
 ],
 "metadata": {
  "kernelspec": {
   "display_name": "Python 3",
   "language": "python",
   "name": "python3"
  },
  "language_info": {
   "codemirror_mode": {
    "name": "ipython",
    "version": 3
   },
   "file_extension": ".py",
   "mimetype": "text/x-python",
   "name": "python",
   "nbconvert_exporter": "python",
   "pygments_lexer": "ipython3",
   "version": "3.8.9"
  },
  "orig_nbformat": 4,
  "vscode": {
   "interpreter": {
    "hash": "31f2aee4e71d21fbe5cf8b01ff0e069b9275f58929596ceb00d14d90e3e16cd6"
   }
  }
 },
 "nbformat": 4,
 "nbformat_minor": 2
}
