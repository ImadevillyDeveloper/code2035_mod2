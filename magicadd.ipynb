{
 "cells": [
  {
   "cell_type": "code",
   "execution_count": 35,
   "metadata": {},
   "outputs": [],
   "source": [
    "class Item:\n",
    "    def __init__(self,name,price,weight):\n",
    "        self.name=name\n",
    "        self.price=price\n",
    "        self.weight=weight\n",
    "    def __add__(self,other):\n",
    "        if isinstance(other,Item):\n",
    "            return self.price+other.price\n",
    "        elif isinstance(other,(int,float)):\n",
    "            return self.price+other\n",
    "        else:\n",
    "            return self.price\n",
    "    def __sub__(self, other):\n",
    "        if isinstance(other,Item):\n",
    "            return self.price-other.price\n",
    "        elif isinstance(other,(int,float)):\n",
    "            return self.price-other\n",
    "        else:\n",
    "            return self.price\n",
    "    def __mul__(self, other):\n",
    "        if isinstance(other,Item):\n",
    "            return self.price*other.price\n",
    "        elif isinstance(other,(int,float)):\n",
    "            return self.price*other\n",
    "        else:\n",
    "            return self.price\n",
    "    def __div__(self, other):\n",
    "        if isinstance(other,Item):\n",
    "            return self.price/other.price\n",
    "        elif isinstance(other,(int,float)):\n",
    "            return self.price/other\n",
    "        else:\n",
    "            return self.price\n",
    "    def __truediv__(self, other):\n",
    "        if isinstance(other,Item):\n",
    "            return self.price/other.price\n",
    "        elif isinstance(other,(int,float)):\n",
    "            return self.price/other\n",
    "        else:\n",
    "            return self.price\n",
    "    def __floordiv__(self, other):\n",
    "        if isinstance(other,Item):\n",
    "            return self.price/other.price\n",
    "        elif isinstance(other,(int,float)):\n",
    "            return self.price/other\n",
    "        else:\n",
    "            return self.price\n",
    "item1 = Item(\"Processor\",15_000,0.1)\n",
    "item2 = Item(\"Monitor\",5_000,10)"
   ]
  },
  {
   "cell_type": "code",
   "execution_count": 39,
   "metadata": {},
   "outputs": [
    {
     "name": "stdout",
     "output_type": "stream",
     "text": [
      "7142.857142857142\n"
     ]
    }
   ],
   "source": [
    "total_price  = item1/2.1\n",
    "print(total_price)"
   ]
  },
  {
   "cell_type": "code",
   "execution_count": 6,
   "metadata": {},
   "outputs": [
    {
     "name": "stdout",
     "output_type": "stream",
     "text": [
      "20000\n"
     ]
    }
   ],
   "source": [
    "total_price  = item1+item2\n",
    "print(total_price)"
   ]
  },
  {
   "cell_type": "code",
   "execution_count": 19,
   "metadata": {},
   "outputs": [
    {
     "name": "stdout",
     "output_type": "stream",
     "text": [
      "15000\n"
     ]
    }
   ],
   "source": [
    "total_price  = item1+\"mouse\"\n",
    "print(total_price)"
   ]
  }
 ],
 "metadata": {
  "kernelspec": {
   "display_name": "Python 3",
   "language": "python",
   "name": "python3"
  },
  "language_info": {
   "codemirror_mode": {
    "name": "ipython",
    "version": 3
   },
   "file_extension": ".py",
   "mimetype": "text/x-python",
   "name": "python",
   "nbconvert_exporter": "python",
   "pygments_lexer": "ipython3",
   "version": "3.11.1"
  },
  "orig_nbformat": 4
 },
 "nbformat": 4,
 "nbformat_minor": 2
}
