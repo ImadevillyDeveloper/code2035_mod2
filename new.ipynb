{
 "cells": [
  {
   "cell_type": "code",
   "execution_count": 1,
   "metadata": {},
   "outputs": [
    {
     "name": "stdout",
     "output_type": "stream",
     "text": [
      "4558167416 <class 'int'>\n",
      "4561080688 <class 'builtin_function_or_method'>\n",
      "4557255408 <class 'type'>\n",
      "42\n",
      "test\n",
      "True\n"
     ]
    }
   ],
   "source": [
    "a = \"hello\" + \" \" + \"word\" + \"!\"\n",
    "b = 1 + 2 + 3 + 4 + 5\n",
    "\n",
    "\n",
    "print(id(1), type(1))\n",
    "print(id(id), type(id))\n",
    "print(id(type), type(type))\n",
    "\n",
    "\n",
    "class A:\n",
    "    def public(self):\n",
    "        return 42\n",
    "\n",
    "    def _private(self):\n",
    "        return \"test\"\n",
    "\n",
    "    def __protect(self):\n",
    "        return True\n",
    "\n",
    "    def wrapper_protect(self):\n",
    "        return self.__protect()\n",
    "\n",
    "\n",
    "a = A()\n",
    "\n",
    "print(a.public())\n",
    "print(a._private())\n",
    "print(a._A__protect())\n"
   ]
  },
  {
   "cell_type": "code",
   "execution_count": 4,
   "metadata": {},
   "outputs": [
    {
     "name": "stdout",
     "output_type": "stream",
     "text": [
      "Object created <__main__.Singleton object at 0x112ce6590> 4610483600\n",
      "Object created <__main__.Singleton object at 0x112ce6590> 4610483600\n",
      "4\n",
      "2 + 2 = 4\n",
      "5 + 5 = 10\n"
     ]
    }
   ],
   "source": [
    "class Singleton(object):\n",
    "    def __new__(self):\n",
    "        if not hasattr(self, 'instance'):\n",
    "            self.instance = super(Singleton, self).__new__(self)\n",
    "        return self.instance\n",
    "\n",
    "s = Singleton()\n",
    "print(\"Object created\", s, id(s))\n",
    "s1 = Singleton()\n",
    "print(\"Object created\", s1, id(s1))\n",
    "\n",
    "\n",
    "def f():\n",
    "\treturn 2 + 2\n",
    "\n",
    "\n",
    "q = f\n",
    "\n",
    "print(q())\n",
    "\n",
    "def repair_deco(func): # тут постоянный аргумент это func\n",
    "    def wrapper(a, b): # тут аргументы которые получает функция\n",
    "        return func(a, b) - 1\n",
    "    return wrapper\n",
    "\n",
    "@repair_deco\n",
    "def wrong_func(a, b):\n",
    "\treturn a + b + 1\n",
    "\n",
    "print(f\"2 + 2 = {wrong_func(2, 2)}\")\n",
    "print(f\"5 + 5 = {wrong_func(5, 5)}\")"
   ]
  },
  {
   "cell_type": "code",
   "execution_count": 5,
   "metadata": {},
   "outputs": [
    {
     "name": "stdout",
     "output_type": "stream",
     "text": [
      "time: 0:00:00.457257\n",
      "time: 0:00:00.498066\n"
     ]
    }
   ],
   "source": [
    "from datetime import datetime\n",
    "\n",
    "def timeit(func):\n",
    "\tdef wrapper(val):\n",
    "\t\tstart = datetime.now()\n",
    "\t\tres = func(val)\n",
    "\t\tend = datetime.now()\n",
    "\t\tprint(f\"time: {end - start}\")\n",
    "\t\treturn res\n",
    "\n",
    "\treturn wrapper\n",
    "\n",
    "@timeit\n",
    "def get_list_1(val):\n",
    "\treturn [x for x in range(val) if x % 2]\n",
    "\n",
    "@timeit\n",
    "def get_list_2(val):\n",
    "\tnew_list = []\n",
    "\tfor x in range(val):\n",
    "\t\tif x % 2:\n",
    "\t\t\tnew_list.append(x)\n",
    "\treturn new_list\n",
    "\n",
    "\n",
    "val = 10000000\n",
    "\n",
    "a = get_list_1(val)\n",
    "b = get_list_2(val)\n"
   ]
  }
 ],
 "metadata": {
  "kernelspec": {
   "display_name": "Python 3",
   "language": "python",
   "name": "python3"
  },
  "language_info": {
   "codemirror_mode": {
    "name": "ipython",
    "version": 3
   },
   "file_extension": ".py",
   "mimetype": "text/x-python",
   "name": "python",
   "nbconvert_exporter": "python",
   "pygments_lexer": "ipython3",
   "version": "3.11.1"
  },
  "orig_nbformat": 4,
  "vscode": {
   "interpreter": {
    "hash": "aee8b7b246df8f9039afb4144a1f6fd8d2ca17a180786b69acc140d282b71a49"
   }
  }
 },
 "nbformat": 4,
 "nbformat_minor": 2
}
