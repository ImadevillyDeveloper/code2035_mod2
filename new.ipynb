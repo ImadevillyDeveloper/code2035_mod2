{
 "cells": [
  {
   "cell_type": "code",
   "execution_count": 27,
   "metadata": {},
   "outputs": [
    {
     "name": "stdout",
     "output_type": "stream",
     "text": [
      "74,7588 рублей за 1 доллар\n",
      "79,6104 рублей за 1 евро\n",
      "10,8409 рублей за 10 юаней\n",
      "За 199 Евро вы получите 211.91444485465257 Доллар США\n"
     ]
    },
    {
     "name": "stderr",
     "output_type": "stream",
     "text": [
      "/Users/pattycha/Library/Python/3.8/lib/python/site-packages/bs4/builder/__init__.py:545: XMLParsedAsHTMLWarning: It looks like you're parsing an XML document using an HTML parser. If this really is an HTML document (maybe it's XHTML?), you can ignore or filter this warning. If it's XML, you should know that using an XML parser will be more reliable. To parse this document as XML, make sure you have the lxml package installed, and pass the keyword argument `features=\"xml\"` into the BeautifulSoup constructor.\n",
      "  warnings.warn(\n"
     ]
    }
   ],
   "source": [
    "import requests\n",
    "from bs4 import BeautifulSoup\n",
    "from datetime import datetime\n",
    "\n",
    "url = \"http://www.cbr.ru/scripts/XML_daily.asp\"\n",
    "\n",
    "today = datetime.today()\n",
    "today = today.strftime(\"%d/%m/%Y\")\n",
    "\n",
    "payload = {\"date_req\" : today}\n",
    "\n",
    "responce = requests.get(url, params=payload)\n",
    "#print(responce.text)\n",
    "# print(responce.url)\n",
    "xml = BeautifulSoup(responce.content, \"lxml\")\n",
    "\n",
    "def get_val(ch):\n",
    "\tif ch == \"RUR\": return (\"Российский рубль\",1,1)\n",
    "\tif not ch in responce.text: return None\n",
    "\ta = responce.text.split(ch)[1].split(\"</Valute>\")[0]\n",
    "\tnom = int(a.split(\"<Nominal>\")[1].split(\"</Nominal>\")[0])\n",
    "\tname = a.split(\"<Name>\")[1].split(\"</Name>\")[0]\n",
    "\tval = float(a.split(\"<Value>\")[1].split(\"</Value>\")[0].replace(\",\",\".\"))\n",
    "\treturn (name,nom,val)\n",
    "\n",
    "def func(valute_from, valute_to,amount):\n",
    "\tvalute_from = get_val(valute_from)\n",
    "\tvalute_to = get_val(valute_to)\n",
    "\tif valute_to and valute_from:\n",
    "\t\ta = amount*valute_from[2]/valute_from[1]\n",
    "\t\tb = a*valute_to[1]/valute_to[2]\n",
    "\treturn f\"За {amount} {valute_from[0]} вы получите {b} {valute_to[0]}\"\n",
    "def getCourse (id):\n",
    "\treturn xml.find(\"valute\",  {'id': id}).value.text\n",
    "\n",
    "\n",
    "print(getCourse(\"R01235\"), \"рублей за 1 доллар\")\n",
    "print(getCourse(\"R01239\"), \"рублей за 1 евро\")\n",
    "print(getCourse(\"R01375\"), \"рублей за 10 юаней\")\n",
    "\n",
    "print(func(\"EUR\",\"USD\",199))\n",
    "\n"
   ]
  }
 ],
 "metadata": {
  "kernelspec": {
   "display_name": "Python 3",
   "language": "python",
   "name": "python3"
  },
  "language_info": {
   "codemirror_mode": {
    "name": "ipython",
    "version": 3
   },
   "file_extension": ".py",
   "mimetype": "text/x-python",
   "name": "python",
   "nbconvert_exporter": "python",
   "pygments_lexer": "ipython3",
   "version": "3.8.9"
  },
  "orig_nbformat": 4,
  "vscode": {
   "interpreter": {
    "hash": "31f2aee4e71d21fbe5cf8b01ff0e069b9275f58929596ceb00d14d90e3e16cd6"
   }
  }
 },
 "nbformat": 4,
 "nbformat_minor": 2
}
