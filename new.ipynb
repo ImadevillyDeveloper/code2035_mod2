{
 "cells": [
  {
   "cell_type": "code",
   "execution_count": 40,
   "metadata": {},
   "outputs": [],
   "source": [
    "from pprint import pprint\n",
    "from typing import Iterator\n",
    "goods = [\n",
    "    {\n",
    "        \"name\": \"Iphone 16 promax ultra\",\n",
    "        \"brand\":\"Apple\",\n",
    "        \"price\":9999999\n",
    "    },\n",
    "    {\n",
    "        \"name\":\"Чайник\",\n",
    "        \"brand\":\"Tefal\",\n",
    "        \"price\":90\n",
    "    },\n",
    "    {\n",
    "        \"name\":\"Redmi 42\",\n",
    "        \"brand\":\"Xiaomi\",\n",
    "        \"price\":15000\n",
    "    },\n",
    "    {\n",
    "        \"name\":\"Model XXXS\",\n",
    "        \"brand\":\"Tesla\",\n",
    "        \"price\":15\n",
    "    },\n",
    "    {\n",
    "        \"name\":\"Falcon 9\",\n",
    "        \"brand\":\"Space X\",\n",
    "        \"price\":90_000_000\n",
    "    },\n",
    "    {\n",
    "        \"name\": \"Iphone 2\",\n",
    "        \"brand\":\"Apple\",\n",
    "        \"price\":9\n",
    "    },\n",
    "    {\n",
    "        \"name\": \"earbuds\",\n",
    "        \"brand\":\"Apple\",\n",
    "        \"price\":999\n",
    "    },\n",
    "]\n"
   ]
  },
  {
   "cell_type": "code",
   "execution_count": 44,
   "metadata": {},
   "outputs": [
    {
     "name": "stdout",
     "output_type": "stream",
     "text": [
      "Наша переменная итератор? True\n",
      "[{'brand': 'Apple', 'name': 'Iphone 2', 'price': 9},\n",
      " {'brand': 'Apple', 'name': 'earbuds', 'price': 999},\n",
      " {'brand': 'Apple', 'name': 'Iphone 16 promax ultra', 'price': 9999999}]\n"
     ]
    }
   ],
   "source": [
    "goods = sorted(goods,key= lambda x: x[\"price\"])\n",
    "some_apple_devices = filter(lambda x: x[\"brand\"]==\"Apple\",goods)\n",
    "print(\"Наша переменная итератор?\", isinstance(some_apple_devices,Iterator))\n",
    "some_apple_devices = list(some_apple_devices)\n",
    "pprint(some_apple_devices)"
   ]
  },
  {
   "cell_type": "code",
   "execution_count": 59,
   "metadata": {},
   "outputs": [
    {
     "name": "stdout",
     "output_type": "stream",
     "text": [
      "[1, 4, 9, 2025]\n"
     ]
    }
   ],
   "source": [
    "my_list = [\"1\",\"2\",\"3\",\"45\"]\n",
    "numbers_list = list(map(lambda x:int(x)*int(x),my_list))\n",
    "print(numbers_list)"
   ]
  },
  {
   "cell_type": "code",
   "execution_count": 55,
   "metadata": {},
   "outputs": [
    {
     "name": "stdout",
     "output_type": "stream",
     "text": [
      "['Danil Bogoslovskiy',\n",
      " 'Ivan Khametov',\n",
      " 'Olga Umer',\n",
      " 'Ann Pifagor',\n",
      " 'Error Axov',\n",
      " 'Kirill Kunkin',\n",
      " '42 3.14']\n"
     ]
    }
   ],
   "source": [
    "names = [\"Danil\",\"Ivan\",\"Olga\",\"Ann\",\"Error\",\"Kirill\",42]\n",
    "surnames = [\"Bogoslovskiy\",\"Khametov\",\"Umer\",\"Pifagor\",\"Axov\",\"Kunkin\",3.14]\n",
    "l = list(map(lambda x,y: f\"{x} {y}\",names,surnames))\n",
    "pprint(l)"
   ]
  },
  {
   "cell_type": "code",
   "execution_count": 56,
   "metadata": {},
   "outputs": [
    {
     "name": "stdout",
     "output_type": "stream",
     "text": [
      "[{0: {'brand': 'Apple', 'name': 'Iphone 2', 'price': 9}},\n",
      " {1: {'brand': 'Tesla', 'name': 'Model XXXS', 'price': 15}},\n",
      " {2: {'brand': 'Tefal', 'name': 'Чайник', 'price': 90}},\n",
      " {3: {'brand': 'Apple', 'name': 'earbuds', 'price': 999}},\n",
      " {4: {'brand': 'Xiaomi', 'name': 'Redmi 42', 'price': 15000}},\n",
      " {5: {'brand': 'Apple', 'name': 'Iphone 16 promax ultra', 'price': 9999999}},\n",
      " {6: {'brand': 'Space X', 'name': 'Falcon 9', 'price': 90000000}}]\n"
     ]
    }
   ],
   "source": [
    "indexed_goods=[]\n",
    "for i,item in enumerate(goods):\n",
    "    indexed_goods.append({i:item})\n",
    "pprint(indexed_goods)"
   ]
  },
  {
   "cell_type": "code",
   "execution_count": 61,
   "metadata": {},
   "outputs": [
    {
     "name": "stdout",
     "output_type": "stream",
     "text": [
      "[(0, {'brand': 'Apple', 'name': 'Iphone 2', 'price': 9}),\n",
      " (1, {'brand': 'Tesla', 'name': 'Model XXXS', 'price': 15}),\n",
      " (2, {'brand': 'Tefal', 'name': 'Чайник', 'price': 90}),\n",
      " (3, {'brand': 'Apple', 'name': 'earbuds', 'price': 999}),\n",
      " (4, {'brand': 'Xiaomi', 'name': 'Redmi 42', 'price': 15000}),\n",
      " (5, {'brand': 'Apple', 'name': 'Iphone 16 promax ultra', 'price': 9999999}),\n",
      " (6, {'brand': 'Space X', 'name': 'Falcon 9', 'price': 90000000})]\n"
     ]
    }
   ],
   "source": [
    "enum_goods = list(enumerate(goods))\n",
    "pprint(enum_goods)"
   ]
  },
  {
   "cell_type": "code",
   "execution_count": 67,
   "metadata": {},
   "outputs": [
    {
     "name": "stdout",
     "output_type": "stream",
     "text": [
      "[('Danil', 'Bogoslovskiy', {'brand': 'Apple', 'name': 'Iphone 2', 'price': 9}),\n",
      " ('Ivan', 'Khametov', {'brand': 'Tesla', 'name': 'Model XXXS', 'price': 15}),\n",
      " ('Olga', 'Umer', {'brand': 'Tefal', 'name': 'Чайник', 'price': 90}),\n",
      " ('Ann', 'Pifagor', {'brand': 'Apple', 'name': 'earbuds', 'price': 999}),\n",
      " ('Error', 'Axov', {'brand': 'Xiaomi', 'name': 'Redmi 42', 'price': 15000}),\n",
      " ('Kirill',\n",
      "  'Kunkin',\n",
      "  {'brand': 'Apple', 'name': 'Iphone 16 promax ultra', 'price': 9999999}),\n",
      " (42, 3.14, {'brand': 'Space X', 'name': 'Falcon 9', 'price': 90000000})]\n"
     ]
    }
   ],
   "source": [
    "names = [\"Danil\",\"Ivan\",\"Olga\",\"Ann\",\"Error\",\"Kirill\",42]\n",
    "surnames = [\"Bogoslovskiy\",\"Khametov\",\"Umer\",\"Pifagor\",\"Axov\",\"Kunkin\",3.14]\n",
    "zip_list = list(zip(names,surnames,goods))\n",
    "pprint(zip_list)"
   ]
  },
  {
   "cell_type": "code",
   "execution_count": 75,
   "metadata": {},
   "outputs": [
    {
     "name": "stdout",
     "output_type": "stream",
     "text": [
      "1: Danil Bogoslovskiy купил Iphone 2 от компании Apple за 9 долларов\n",
      "2: Ivan Khametov купил Model XXXS от компании Tesla за 15 долларов\n",
      "3: Olga Umer купил Чайник от компании Tefal за 90 долларов\n",
      "4: Ann Pifagor купил earbuds от компании Apple за 999 долларов\n",
      "5: Error Axov купил Redmi 42 от компании Xiaomi за 15000 долларов\n",
      "6: Kirill Kunkin купил Iphone 16 promax ultra от компании Apple за 9999999 долларов\n",
      "7: 42 3.14 купил Falcon 9 от компании Space X за 90000000 долларов\n"
     ]
    }
   ],
   "source": [
    "for i,(name,surname,good) in enumerate(zip(names,surnames,goods)):\n",
    "    print(f\"{i+1}: {name} {surname} купил {good['name']} от компании {good['brand']} за {good['price']} долларов\")"
   ]
  },
  {
   "cell_type": "code",
   "execution_count": 77,
   "metadata": {},
   "outputs": [],
   "source": [
    "if __name__ == \"__main\":\n",
    "    print(123)"
   ]
  }
 ],
 "metadata": {
  "kernelspec": {
   "display_name": "Python 3",
   "language": "python",
   "name": "python3"
  },
  "language_info": {
   "codemirror_mode": {
    "name": "ipython",
    "version": 3
   },
   "file_extension": ".py",
   "mimetype": "text/x-python",
   "name": "python",
   "nbconvert_exporter": "python",
   "pygments_lexer": "ipython3",
   "version": "3.8.9"
  },
  "orig_nbformat": 4
 },
 "nbformat": 4,
 "nbformat_minor": 2
}
