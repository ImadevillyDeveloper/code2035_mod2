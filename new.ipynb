{
 "cells": [
  {
   "cell_type": "code",
   "execution_count": 34,
   "metadata": {},
   "outputs": [
    {
     "name": "stdout",
     "output_type": "stream",
     "text": [
      "flip\n"
     ]
    }
   ],
   "source": [
    "flip_flap=lambda y:\"flap\" if y==\"flip\" else \"flip\"\n",
    "print(flip_flap(\"flap\"))"
   ]
  },
  {
   "cell_type": "code",
   "execution_count": 90,
   "metadata": {},
   "outputs": [
    {
     "name": "stdout",
     "output_type": "stream",
     "text": [
      "[0, 30, 31, 60, 62, 90, 93, 120, 124, 150, 155, 180, 186, 210, 217, 240, 248]\n"
     ]
    }
   ],
   "source": [
    "new = [i for i in range(250)]\n",
    "new = list(map(lambda x:x if x%30==0 or x%31==0 else None,new))\n",
    "f = lambda x:x!=None\n",
    "new = list(filter(f,new))\n",
    "print(new)"
   ]
  },
  {
   "cell_type": "code",
   "execution_count": 91,
   "metadata": {},
   "outputs": [],
   "source": [
    "new = [i for i in range(250) if i%30==0 or i%31==0]"
   ]
  },
  {
   "cell_type": "code",
   "execution_count": 94,
   "metadata": {},
   "outputs": [
    {
     "name": "stdout",
     "output_type": "stream",
     "text": [
      "1\n",
      "2\n",
      "4\n",
      "(123, 77, True)\n",
      "{'c': 4, 'one': 1, 'two': 2}\n"
     ]
    }
   ],
   "source": [
    "def func(a, b, *args, **kwargs):\n",
    "\tc = kwargs.get(\"c\")\n",
    "\tprint(a)\n",
    "\tprint(b)\n",
    "\tprint(c)\n",
    "\tprint(args)\n",
    "\tprint(kwargs)\n",
    "\n",
    "\n",
    "func(1, 2, 123, 77, True, c=4, one=1, two=2)"
   ]
  }
 ],
 "metadata": {
  "kernelspec": {
   "display_name": "Python 3",
   "language": "python",
   "name": "python3"
  },
  "language_info": {
   "codemirror_mode": {
    "name": "ipython",
    "version": 3
   },
   "file_extension": ".py",
   "mimetype": "text/x-python",
   "name": "python",
   "nbconvert_exporter": "python",
   "pygments_lexer": "ipython3",
   "version": "3.11.1"
  },
  "orig_nbformat": 4,
  "vscode": {
   "interpreter": {
    "hash": "aee8b7b246df8f9039afb4144a1f6fd8d2ca17a180786b69acc140d282b71a49"
   }
  }
 },
 "nbformat": 4,
 "nbformat_minor": 2
}
