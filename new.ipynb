{
 "cells": [
  {
   "cell_type": "code",
   "execution_count": 1,
   "metadata": {},
   "outputs": [
    {
     "name": "stdout",
     "output_type": "stream",
     "text": [
      "-к турецких лир\n",
      "турецких лир\n",
      "турецких лир австралийский доллар\n",
      "турецких лир азербайджанский манат\n",
      "турецких лир фунт стерлингов соединенного королевства\n",
      "турецких лир армянских драмов\n",
      "турецких лир белорусский рубль\n",
      "турецких лир болгарский лев\n",
      "турецких лир бразильский реал\n",
      "турецких лир венгерских форинтов\n",
      "турецких лир вьетнамских донгов\n",
      "турецких лир гонконгский доллар\n",
      "турецких лир грузинский лари\n",
      "турецких лир датская крона\n",
      "турецких лир дирхам оаэ\n",
      "турецких лир доллар сша\n",
      "турецких лир евро\n",
      "турецких лир египетских фунтов\n",
      "турецких лир индийских рупий\n",
      "турецких лир индонезийских рупий\n",
      "турецких лир казахстанских тенге\n",
      "турецких лир канадский доллар\n",
      "турецких лир катарский риал\n",
      "турецких лир киргизских сомов\n",
      "турецких лир китайский юань\n",
      "турецких лир молдавских леев\n",
      "турецких лир новозеландский доллар\n",
      "турецких лир норвежских крон\n",
      "турецких лир польский злотый\n",
      "турецких лир румынский лей\n",
      "турецких лир сдр (специальные права заимствования)\n",
      "турецких лир сингапурский доллар\n",
      "турецких лир таджикских сомони\n",
      "турецких лир таиландских батов\n",
      "турецких лир турецких лир\n"
     ]
    }
   ],
   "source": [
    "#импорт библиотек\n",
    "import wiki\n",
    "import vk_api\n",
    "from course import get_course\n",
    "from vk_api.longpoll import VkLongPoll, VkEventType\n",
    "import random\n",
    "def send(txt):\n",
    "    vk.messages.send(user_id = user_id,random_id = random_id,message = txt)\n",
    "#чтения ключа из файла\n",
    "with open(\"key.txt\",\"r\") as file:\n",
    "    token = file.read()\n",
    "\n",
    "vk_session = vk_api.VkApi(token = token)\n",
    "vk = vk_session.get_api()\n",
    "longpoll = VkLongPoll(vk_session)\n",
    "\n",
    "for event in longpoll.listen():\n",
    "    if event.type == VkEventType.MESSAGE_NEW and event.to_me:\n",
    "        msg = event.text.lower()\n",
    "        user_id = event.user_id\n",
    "        random_id = random.randint(1,10**10)\n",
    "        print(msg)\n",
    "        if msg == \"-эхо\":\n",
    "            ans = \"эхо\"\n",
    "        elif msg.startswith(\"-в\"):\n",
    "            article = msg[2:]\n",
    "            ans = wiki.get_wiki_article(article)\n",
    "        elif msg.startswith(\"-к\"):\n",
    "            course  =msg[3:]\n",
    "            nominal, value = get_course(course)\n",
    "            if nominal:\n",
    "                ans = f\"{value} рублей за {nominal} {course}\"\n",
    "            else:\n",
    "                ans = \"Нет такой валюты\"\n",
    "        else:\n",
    "            ans = \"Неизвестная комманда\"\n",
    "        send(ans)\n"
   ]
  },
  {
   "cell_type": "code",
   "execution_count": null,
   "metadata": {},
   "outputs": [],
   "source": []
  },
  {
   "cell_type": "code",
   "execution_count": 14,
   "metadata": {},
   "outputs": [
    {
     "name": "stdout",
     "output_type": "stream",
     "text": [
      "Note: you may need to restart the kernel to use updated packages.\n"
     ]
    }
   ],
   "source": [
    "pip freeze -> requirements.txt"
   ]
  }
 ],
 "metadata": {
  "kernelspec": {
   "display_name": "Python 3",
   "language": "python",
   "name": "python3"
  },
  "language_info": {
   "codemirror_mode": {
    "name": "ipython",
    "version": 3
   },
   "file_extension": ".py",
   "mimetype": "text/x-python",
   "name": "python",
   "nbconvert_exporter": "python",
   "pygments_lexer": "ipython3",
   "version": "3.11.1"
  },
  "orig_nbformat": 4
 },
 "nbformat": 4,
 "nbformat_minor": 2
}
