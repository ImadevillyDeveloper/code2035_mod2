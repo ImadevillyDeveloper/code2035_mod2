{
 "cells": [
  {
   "cell_type": "code",
   "execution_count": 15,
   "metadata": {},
   "outputs": [],
   "source": [
    "import os\n",
    "from pygame import mixer\n",
    "from gtts import gTTS\n",
    "\n",
    "my_mp3 = \"my.mp3\"\n",
    "my_txt_file = \"speach.txt\"\n",
    "\n",
    "# my_file = open(\"speach.txt\",\"r\")\n",
    "# my_text = my_file.read()\n",
    "# my_file.close()\n",
    "with open(my_txt_file,\"w\") as my_file:\n",
    "   my_file.write(\"Hello world again\") \n",
    "with open(my_txt_file,\"r\") as my_file:\n",
    "   my_text = my_file.read() \n",
    "\n",
    "mixer.init()\n",
    "tts = gTTS(text = my_text,lang = \"en\")\n",
    "tts.save(my_mp3)\n",
    "mixer.music.load(my_mp3)\n",
    "mixer.music.play()\n",
    "os.remove(my_mp3)\n",
    "# import pyaudio\n",
    "# import speech_recognition as sr\n"
   ]
  },
  {
   "attachments": {},
   "cell_type": "markdown",
   "metadata": {},
   "source": [
    "win+r\n",
    "cmd\n",
    "pip install py"
   ]
  },
  {
   "cell_type": "code",
   "execution_count": 9,
   "metadata": {},
   "outputs": [
    {
     "name": "stdout",
     "output_type": "stream",
     "text": [
      "pip 23.0 from /Users/pattycha/Library/Python/3.8/lib/python/site-packages/pip (python 3.8)\n",
      "Note: you may need to restart the kernel to use updated packages.\n"
     ]
    }
   ],
   "source": [
    "pip --version"
   ]
  },
  {
   "cell_type": "code",
   "execution_count": null,
   "metadata": {},
   "outputs": [],
   "source": []
  }
 ],
 "metadata": {
  "kernelspec": {
   "display_name": "Python 3",
   "language": "python",
   "name": "python3"
  },
  "language_info": {
   "codemirror_mode": {
    "name": "ipython",
    "version": 3
   },
   "file_extension": ".py",
   "mimetype": "text/x-python",
   "name": "python",
   "nbconvert_exporter": "python",
   "pygments_lexer": "ipython3",
   "version": "3.8.9"
  },
  "orig_nbformat": 4,
  "vscode": {
   "interpreter": {
    "hash": "31f2aee4e71d21fbe5cf8b01ff0e069b9275f58929596ceb00d14d90e3e16cd6"
   }
  }
 },
 "nbformat": 4,
 "nbformat_minor": 2
}
