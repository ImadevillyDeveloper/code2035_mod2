{
 "cells": [
  {
   "cell_type": "code",
   "execution_count": null,
   "metadata": {},
   "outputs": [],
   "source": [
    "import time\n",
    "# my_list = [time.sleep(x) for x in range(1,3)]\n",
    "my_list = (time.sleep(x) for x in range(1,3))\n",
    "print(my_list)"
   ]
  },
  {
   "cell_type": "code",
   "execution_count": null,
   "metadata": {},
   "outputs": [],
   "source": [
    "import sys\n",
    "my_list = (x for x in range(1000000000))"
   ]
  },
  {
   "cell_type": "code",
   "execution_count": null,
   "metadata": {},
   "outputs": [],
   "source": [
    "print(sys.getsizeof(my_list))"
   ]
  },
  {
   "cell_type": "code",
   "execution_count": null,
   "metadata": {},
   "outputs": [],
   "source": [
    "my_range = range(1,10)\n",
    "print(list(my_range))"
   ]
  },
  {
   "cell_type": "code",
   "execution_count": null,
   "metadata": {},
   "outputs": [],
   "source": [
    "def my_lazy_func():\n",
    "    for i in range(1,11):\n",
    "        print(f\"before{i}\")\n",
    "        yield i\n",
    "        print(f\"after{i}\")\n",
    "\n",
    "\n",
    "for i in my_lazy_func():\n",
    "    print(i)"
   ]
  },
  {
   "cell_type": "code",
   "execution_count": null,
   "metadata": {},
   "outputs": [],
   "source": [
    "# def my_lazy_func():\n",
    "#     for i in items:\n",
    "#         yield i\n",
    "\n",
    "def my_lazy_func():\n",
    "    yield from items\n",
    "        \n",
    "\n",
    "items = [\"apple\",\"banana\",\"tomato\",\"orange\"]\n",
    "for i in my_lazy_func():\n",
    "    print(i)"
   ]
  },
  {
   "cell_type": "code",
   "execution_count": null,
   "metadata": {},
   "outputs": [],
   "source": [
    "# my_file = open(\"requirements.txt\",\"r\")\n",
    "# a = my_file.read()\n",
    "# my_file.close()\n",
    "# print(a)\n",
    "with open(\"requirements.txt\",\"r\") as my_file:\n",
    "    a = my_file.read()\n",
    "print(a)\n",
    "print(my_file.closed)"
   ]
  },
  {
   "cell_type": "code",
   "execution_count": 31,
   "metadata": {},
   "outputs": [
    {
     "name": "stdout",
     "output_type": "stream",
     "text": [
      "Entering context manager\n",
      "Our string dlrow olleh\n",
      "Exit context manager\n"
     ]
    }
   ],
   "source": [
    "import contextlib\n",
    "\n",
    "@contextlib.contextmanager\n",
    "def str_reverse(my_str):\n",
    "    print(\"Entering context manager\")\n",
    "    yield my_str[::-1]\n",
    "    print(\"Exit context manager\")\n",
    "with str_reverse(\"hello world\") as reversed_str:\n",
    "    print(f\"Our string {reversed_str}\")"
   ]
  },
  {
   "cell_type": "code",
   "execution_count": 32,
   "metadata": {},
   "outputs": [
    {
     "name": "stdout",
     "output_type": "stream",
     "text": [
      "EXEPTION\n"
     ]
    }
   ],
   "source": [
    "@contextlib.contextmanager\n",
    "def exc_handler(exc):\n",
    "    try:\n",
    "        yield True\n",
    "    except exc:\n",
    "        print(\"EXEPTION\")\n",
    "        \n",
    "with exc_handler(IndexError):\n",
    "    my_list = [1,2,3]\n",
    "    print(my_list[3])"
   ]
  },
  {
   "cell_type": "code",
   "execution_count": 38,
   "metadata": {},
   "outputs": [
    {
     "name": "stdout",
     "output_type": "stream",
     "text": [
      "[1, 3]\n",
      "(1, 3)\n",
      "4\n"
     ]
    }
   ],
   "source": [
    "def summator(*args):\n",
    "    print(args)\n",
    "    answear = 0\n",
    "    for i in args:\n",
    "        answear += i\n",
    "    return answear\n",
    "a = []\n",
    "for i in range(1,4):\n",
    "    s = input()\n",
    "    if s.isdigit():a.append(int(s))\n",
    "print(a)\n",
    "print(summator(*a))"
   ]
  },
  {
   "cell_type": "code",
   "execution_count": 39,
   "metadata": {},
   "outputs": [
    {
     "name": "stdout",
     "output_type": "stream",
     "text": [
      "11\n"
     ]
    }
   ],
   "source": [
    "def summator(**kwargs):\n",
    "    answear = 0\n",
    "    for i in kwargs:\n",
    "        answear += kwargs[i]\n",
    "    return answear\n",
    "print(summator(a=5,b=6))"
   ]
  }
 ],
 "metadata": {
  "kernelspec": {
   "display_name": "Python 3",
   "language": "python",
   "name": "python3"
  },
  "language_info": {
   "codemirror_mode": {
    "name": "ipython",
    "version": 3
   },
   "file_extension": ".py",
   "mimetype": "text/x-python",
   "name": "python",
   "nbconvert_exporter": "python",
   "pygments_lexer": "ipython3",
   "version": "3.11.1"
  },
  "orig_nbformat": 4
 },
 "nbformat": 4,
 "nbformat_minor": 2
}
