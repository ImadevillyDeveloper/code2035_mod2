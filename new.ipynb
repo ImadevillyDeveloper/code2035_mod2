{
 "cells": [
  {
   "cell_type": "code",
   "execution_count": 17,
   "metadata": {},
   "outputs": [
    {
     "name": "stdout",
     "output_type": "stream",
     "text": [
      "74,7588 рублей за 1 доллар\n",
      "79,6104 рублей за 1 евро\n",
      "10,8409 рублей за 10 юаней\n",
      "За 100 Российский рубль  вы получите 100.0 Российский рубль\n"
     ]
    }
   ],
   "source": [
    "import requests\n",
    "from bs4 import BeautifulSoup\n",
    "from datetime import datetime\n",
    "\n",
    "url = \"http://www.cbr.ru/scripts/XML_daily.asp\"\n",
    "\n",
    "today = datetime.today()\n",
    "today = today.strftime(\"%d/%m/%Y\")\n",
    "\n",
    "payload = {\"date_req\" : today}\n",
    "\n",
    "responce = requests.get(url, params=payload)\n",
    "#print(responce.text)\n",
    "# print(responce.url)\n",
    "xml = BeautifulSoup(responce.content, \"lxml\")\n",
    "\n",
    "def get_val(ch):\n",
    "\tif ch == \"RUR\": return (\"Российский рубль\",1,1)\n",
    "\tif ch not in responce.text: return False\n",
    "\ta = responce.text.split(ch)[1]\n",
    "\tb = a.split(\"</Valute>\")[0]\n",
    "\tnom = b.split(\"<Nominal>\")[1].split(\"</Nominal>\")[0]\n",
    "\tname = b.split(\"<Name>\")[1].split(\"</Name>\")[0]\n",
    "\tval = b.split(\"<Value>\")[1].split(\"</Value>\")[0]\n",
    "\treturn (name,int(nom),float(val.replace(\",\",\".\")))\n",
    "\n",
    "def converter(valute_from,valute_to, amount):\n",
    "\tvalute_from = get_val(valute_from)\n",
    "\tvalute_to = get_val(valute_to)\n",
    "\tif valute_to!=False and valute_from!=False:\n",
    "\t\ta = amount*valute_from[2]/valute_from[1]\n",
    "\t\tb = a*valute_to[1]/valute_to[2]\n",
    "\t\treturn f\"За {amount} {valute_from[0]}  вы получите {b} {valute_to[0]}\"\n",
    "\telse:\n",
    "\t\treturn \"Валюта не найдена\"\n",
    "\n",
    "\n",
    "def getCourse (id):\n",
    "\treturn xml.find(\"valute\",  {'id': id}).value.text\n",
    "\n",
    "\n",
    "print(getCourse(\"R01235\"), \"рублей за 1 доллар\")\n",
    "print(getCourse(\"R01239\"), \"рублей за 1 евро\")\n",
    "print(getCourse(\"R01375\"), \"рублей за 10 юаней\")\n",
    "\n",
    "print(converter(\"RUR\",\"RUR\",100))\n",
    "\n",
    "\n"
   ]
  },
  {
   "cell_type": "code",
   "execution_count": null,
   "metadata": {},
   "outputs": [],
   "source": []
  }
 ],
 "metadata": {
  "kernelspec": {
   "display_name": "Python 3",
   "language": "python",
   "name": "python3"
  },
  "language_info": {
   "codemirror_mode": {
    "name": "ipython",
    "version": 3
   },
   "file_extension": ".py",
   "mimetype": "text/x-python",
   "name": "python",
   "nbconvert_exporter": "python",
   "pygments_lexer": "ipython3",
   "version": "3.8.9"
  },
  "orig_nbformat": 4,
  "vscode": {
   "interpreter": {
    "hash": "31f2aee4e71d21fbe5cf8b01ff0e069b9275f58929596ceb00d14d90e3e16cd6"
   }
  }
 },
 "nbformat": 4,
 "nbformat_minor": 2
}
