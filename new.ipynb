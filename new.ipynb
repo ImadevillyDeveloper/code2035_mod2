{
 "cells": [
  {
   "cell_type": "code",
   "execution_count": 40,
   "metadata": {},
   "outputs": [],
   "source": [
    "from pprint import pprint\n",
    "from typing import Iterator\n",
    "goods = [\n",
    "    {\n",
    "        \"name\": \"Iphone 16 promax ultra\",\n",
    "        \"brand\":\"Apple\",\n",
    "        \"price\":9_999_999\n",
    "    },\n",
    "    {\n",
    "        \"name\":\"Чайник\",\n",
    "        \"brand\":\"Tefal\",\n",
    "        \"price\":90\n",
    "    },\n",
    "    {\n",
    "        \"name\":\"Redmi 42\",\n",
    "        \"brand\":\"Xiaomi\",\n",
    "        \"price\":15000\n",
    "    },\n",
    "    {\n",
    "        \"name\":\"Model XXXS\",\n",
    "        \"brand\":\"Tesla\",\n",
    "        \"price\":15\n",
    "    },\n",
    "    {\n",
    "        \"name\":\"Falcon 9\",\n",
    "        \"brand\":\"Space X\",\n",
    "        \"price\":90_000_000\n",
    "    },\n",
    "    {\n",
    "        \"name\": \"Iphone 2\",\n",
    "        \"brand\":\"Apple\",\n",
    "        \"price\":9\n",
    "    },\n",
    "    {\n",
    "        \"name\": \"earbuds\",\n",
    "        \"brand\":\"Apple\",\n",
    "        \"price\":999\n",
    "    },\n",
    "]\n"
   ]
  },
  {
   "cell_type": "code",
   "execution_count": 44,
   "metadata": {},
   "outputs": [
    {
     "name": "stdout",
     "output_type": "stream",
     "text": [
      "Наша переменная итератор? True\n",
      "[{'brand': 'Apple', 'name': 'Iphone 2', 'price': 9},\n",
      " {'brand': 'Apple', 'name': 'earbuds', 'price': 999},\n",
      " {'brand': 'Apple', 'name': 'Iphone 16 promax ultra', 'price': 9999999}]\n"
     ]
    }
   ],
   "source": [
    "goods = sorted(goods,key= lambda x: x[\"price\"])\n",
    "some_apple_devices = filter(lambda x: x[\"brand\"]==\"Apple\",goods)\n",
    "print(\"Наша переменная итератор?\", isinstance(some_apple_devices,Iterator))\n",
    "some_apple_devices = list(some_apple_devices)\n",
    "pprint(some_apple_devices)"
   ]
  }
 ],
 "metadata": {
  "kernelspec": {
   "display_name": "Python 3",
   "language": "python",
   "name": "python3"
  },
  "language_info": {
   "codemirror_mode": {
    "name": "ipython",
    "version": 3
   },
   "file_extension": ".py",
   "mimetype": "text/x-python",
   "name": "python",
   "nbconvert_exporter": "python",
   "pygments_lexer": "ipython3",
   "version": "3.8.9"
  },
  "orig_nbformat": 4
 },
 "nbformat": 4,
 "nbformat_minor": 2
}
