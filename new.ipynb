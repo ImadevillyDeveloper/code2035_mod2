{
 "cells": [
  {
   "cell_type": "code",
   "execution_count": 1,
   "metadata": {},
   "outputs": [],
   "source": [
    "from tkinter import *\n",
    "count = 0\n",
    "\n",
    "\n",
    "root = Tk()\n",
    "root.title(\"My app\")\n",
    "root.geometry(\"500x500+200+200\")\n",
    "\n",
    "lab = Label(root,text = \"Text\",bg=\"#FF6666\",fg=\"gold\",font=(\"Courier\",16))\n",
    "lab.place(x=100,y=100)\n",
    "\n",
    "def changeLabel():\n",
    "    global count\n",
    "    count+=1\n",
    "    lab[\"text\"]=count\n",
    "\n",
    "btn = Button(text = \"buttun\",background=\"#000555\",foreground=\"#ccc000\",font=(\"Courier\",16),command=changeLabel)\n",
    "btn.place(x=200,y=200)\n",
    "\n",
    "root.mainloop()"
   ]
  }
 ],
 "metadata": {
  "kernelspec": {
   "display_name": "Python 3",
   "language": "python",
   "name": "python3"
  },
  "language_info": {
   "codemirror_mode": {
    "name": "ipython",
    "version": 3
   },
   "file_extension": ".py",
   "mimetype": "text/x-python",
   "name": "python",
   "nbconvert_exporter": "python",
   "pygments_lexer": "ipython3",
   "version": "3.8.9"
  },
  "orig_nbformat": 4,
  "vscode": {
   "interpreter": {
    "hash": "31f2aee4e71d21fbe5cf8b01ff0e069b9275f58929596ceb00d14d90e3e16cd6"
   }
  }
 },
 "nbformat": 4,
 "nbformat_minor": 2
}
