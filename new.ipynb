{
 "cells": [
  {
   "cell_type": "code",
   "execution_count": 23,
   "metadata": {},
   "outputs": [],
   "source": [
    "from pygame import mixer\n",
    "from gtts import gTTS\n",
    "\n",
    "my_mp3 = \"my.mp3\"\n",
    "my_txt_file = \"speach.txt\"\n",
    "\n",
    "with open(my_txt_file,\"r\") as my_file:\n",
    "   my_text = my_file.read() \n",
    "\n",
    "mixer.init()\n",
    "tts = gTTS(text = my_text,lang = \"ru\",slow=True)\n",
    "tts.save(my_mp3)\n",
    "mixer.music.load(my_mp3)\n",
    "mixer.music.play()\n",
    "\n",
    "\n"
   ]
  },
  {
   "cell_type": "code",
   "execution_count": 24,
   "metadata": {},
   "outputs": [
    {
     "name": "stdout",
     "output_type": "stream",
     "text": [
      "||PaMacCore (AUHAL)|| Error on line 1277: err='-66748', msg=Unknown Error\n",
      "say smthng\n"
     ]
    },
    {
     "ename": "AttributeError",
     "evalue": "'NoneType' object has no attribute 'close'",
     "output_type": "error",
     "traceback": [
      "\u001b[0;31m---------------------------------------------------------------------------\u001b[0m",
      "\u001b[0;31mAssertionError\u001b[0m                            Traceback (most recent call last)",
      "\u001b[1;32m/Users/pattycha/code2035_mod2-5/new.ipynb Cell 2\u001b[0m in \u001b[0;36m<cell line: 7>\u001b[0;34m()\u001b[0m\n\u001b[1;32m      <a href='vscode-notebook-cell:/Users/pattycha/code2035_mod2-5/new.ipynb#W1sZmlsZQ%3D%3D?line=7'>8</a>\u001b[0m     \u001b[39mprint\u001b[39m(\u001b[39m\"\u001b[39m\u001b[39msay smthng\u001b[39m\u001b[39m\"\u001b[39m)\n\u001b[0;32m----> <a href='vscode-notebook-cell:/Users/pattycha/code2035_mod2-5/new.ipynb#W1sZmlsZQ%3D%3D?line=8'>9</a>\u001b[0m     audio \u001b[39m=\u001b[39m r\u001b[39m.\u001b[39;49mlisten(source)\n\u001b[1;32m     <a href='vscode-notebook-cell:/Users/pattycha/code2035_mod2-5/new.ipynb#W1sZmlsZQ%3D%3D?line=9'>10</a>\u001b[0m speech \u001b[39m=\u001b[39m r\u001b[39m.\u001b[39mrecognize_google(audio, language\u001b[39m=\u001b[39m\u001b[39m\"\u001b[39m\u001b[39mru_Ru\u001b[39m\u001b[39m\"\u001b[39m)\u001b[39m.\u001b[39mlower()\n",
      "File \u001b[0;32m~/Library/Python/3.8/lib/python/site-packages/speech_recognition/__init__.py:651\u001b[0m, in \u001b[0;36mRecognizer.listen\u001b[0;34m(self, source, timeout, phrase_time_limit, snowboy_configuration)\u001b[0m\n\u001b[1;32m    650\u001b[0m \u001b[39massert\u001b[39;00m \u001b[39misinstance\u001b[39m(source, AudioSource), \u001b[39m\"\u001b[39m\u001b[39mSource must be an audio source\u001b[39m\u001b[39m\"\u001b[39m\n\u001b[0;32m--> 651\u001b[0m \u001b[39massert\u001b[39;00m source\u001b[39m.\u001b[39mstream \u001b[39mis\u001b[39;00m \u001b[39mnot\u001b[39;00m \u001b[39mNone\u001b[39;00m, \u001b[39m\"\u001b[39m\u001b[39mAudio source must be entered before listening, see documentation for ``AudioSource``; are you using ``source`` outside of a ``with`` statement?\u001b[39m\u001b[39m\"\u001b[39m\n\u001b[1;32m    652\u001b[0m \u001b[39massert\u001b[39;00m \u001b[39mself\u001b[39m\u001b[39m.\u001b[39mpause_threshold \u001b[39m>\u001b[39m\u001b[39m=\u001b[39m \u001b[39mself\u001b[39m\u001b[39m.\u001b[39mnon_speaking_duration \u001b[39m>\u001b[39m\u001b[39m=\u001b[39m \u001b[39m0\u001b[39m\n",
      "\u001b[0;31mAssertionError\u001b[0m: Audio source must be entered before listening, see documentation for ``AudioSource``; are you using ``source`` outside of a ``with`` statement?",
      "\nDuring handling of the above exception, another exception occurred:\n",
      "\u001b[0;31mAttributeError\u001b[0m                            Traceback (most recent call last)",
      "\u001b[1;32m/Users/pattycha/code2035_mod2-5/new.ipynb Cell 2\u001b[0m in \u001b[0;36m<cell line: 7>\u001b[0;34m()\u001b[0m\n\u001b[1;32m      <a href='vscode-notebook-cell:/Users/pattycha/code2035_mod2-5/new.ipynb#W1sZmlsZQ%3D%3D?line=6'>7</a>\u001b[0m \u001b[39mwith\u001b[39;00m sr\u001b[39m.\u001b[39mMicrophone() \u001b[39mas\u001b[39;00m source:\n\u001b[1;32m      <a href='vscode-notebook-cell:/Users/pattycha/code2035_mod2-5/new.ipynb#W1sZmlsZQ%3D%3D?line=7'>8</a>\u001b[0m     \u001b[39mprint\u001b[39m(\u001b[39m\"\u001b[39m\u001b[39msay smthng\u001b[39m\u001b[39m\"\u001b[39m)\n\u001b[0;32m----> <a href='vscode-notebook-cell:/Users/pattycha/code2035_mod2-5/new.ipynb#W1sZmlsZQ%3D%3D?line=8'>9</a>\u001b[0m     audio \u001b[39m=\u001b[39m r\u001b[39m.\u001b[39mlisten(source)\n\u001b[1;32m     <a href='vscode-notebook-cell:/Users/pattycha/code2035_mod2-5/new.ipynb#W1sZmlsZQ%3D%3D?line=9'>10</a>\u001b[0m speech \u001b[39m=\u001b[39m r\u001b[39m.\u001b[39mrecognize_google(audio, language\u001b[39m=\u001b[39m\u001b[39m\"\u001b[39m\u001b[39mru_Ru\u001b[39m\u001b[39m\"\u001b[39m)\u001b[39m.\u001b[39mlower()\n\u001b[1;32m     <a href='vscode-notebook-cell:/Users/pattycha/code2035_mod2-5/new.ipynb#W1sZmlsZQ%3D%3D?line=10'>11</a>\u001b[0m \u001b[39mprint\u001b[39m(\u001b[39mf\u001b[39m\u001b[39m\"\u001b[39m\u001b[39mВы сказали:\u001b[39m\u001b[39m{\u001b[39;00mspeech\u001b[39m}\u001b[39;00m\u001b[39m\"\u001b[39m)\n",
      "File \u001b[0;32m~/Library/Python/3.8/lib/python/site-packages/speech_recognition/__init__.py:201\u001b[0m, in \u001b[0;36mMicrophone.__exit__\u001b[0;34m(self, exc_type, exc_value, traceback)\u001b[0m\n\u001b[1;32m    199\u001b[0m \u001b[39mdef\u001b[39;00m \u001b[39m__exit__\u001b[39m(\u001b[39mself\u001b[39m, exc_type, exc_value, traceback):\n\u001b[1;32m    200\u001b[0m     \u001b[39mtry\u001b[39;00m:\n\u001b[0;32m--> 201\u001b[0m         \u001b[39mself\u001b[39;49m\u001b[39m.\u001b[39;49mstream\u001b[39m.\u001b[39;49mclose()\n\u001b[1;32m    202\u001b[0m     \u001b[39mfinally\u001b[39;00m:\n\u001b[1;32m    203\u001b[0m         \u001b[39mself\u001b[39m\u001b[39m.\u001b[39mstream \u001b[39m=\u001b[39m \u001b[39mNone\u001b[39;00m\n",
      "\u001b[0;31mAttributeError\u001b[0m: 'NoneType' object has no attribute 'close'"
     ]
    }
   ],
   "source": [
    "import pyaudio\n",
    "import random\n",
    "import speech_recognition as sr\n",
    "r  = sr.Recognizer()\n",
    "hi_list = [\"Привет\",\"Хай\",\"Здравствуйте\"]\n",
    "film_list = [\"Пятница 13\",\"Кот в сапогах2\"]\n",
    "with sr.Microphone() as source:\n",
    "    print(\"say smthng\")\n",
    "    audio = r.listen(source)\n",
    "speech = r.recognize_google(audio, language=\"ru_Ru\").lower()\n",
    "print(f\"Вы сказали:{speech}\")\n",
    "if speech == \"привет\":\n",
    "    print(random.choice(hi_list))\n",
    "elif speech == \"пока\":\n",
    "    print(\"До свидания\")\n",
    "elif speech == \"фильм\":\n",
    "    print(random.choice(film_list))\n"
   ]
  },
  {
   "cell_type": "code",
   "execution_count": 24,
   "metadata": {},
   "outputs": [
    {
     "name": "stdout",
     "output_type": "stream",
     "text": [
      "The Zen of Python, by Tim Peters\n",
      "\n",
      "Beautiful is better than ugly.\n",
      "Explicit is better than implicit.\n",
      "Simple is better than complex.\n",
      "Complex is better than complicated.\n",
      "Flat is better than nested.\n",
      "Sparse is better than dense.\n",
      "Readability counts.\n",
      "Special cases aren't special enough to break the rules.\n",
      "Although practicality beats purity.\n",
      "Errors should never pass silently.\n",
      "Unless explicitly silenced.\n",
      "In the face of ambiguity, refuse the temptation to guess.\n",
      "There should be one-- and preferably only one --obvious way to do it.\n",
      "Although that way may not be obvious at first unless you're Dutch.\n",
      "Now is better than never.\n",
      "Although never is often better than *right* now.\n",
      "If the implementation is hard to explain, it's a bad idea.\n",
      "If the implementation is easy to explain, it may be a good idea.\n",
      "Namespaces are one honking great idea -- let's do more of those!\n"
     ]
    }
   ],
   "source": [
    "import this"
   ]
  },
  {
   "cell_type": "code",
   "execution_count": 23,
   "metadata": {},
   "outputs": [
    {
     "name": "stdout",
     "output_type": "stream",
     "text": [
      "Хай\n"
     ]
    }
   ],
   "source": [
    "import random\n",
    "print(random.choice([\"Привет\",\"Хай\",\"Здравствуйте\"]))"
   ]
  },
  {
   "attachments": {},
   "cell_type": "markdown",
   "metadata": {},
   "source": [
    "win+r\n",
    "cmd\n",
    "pip install py"
   ]
  },
  {
   "cell_type": "code",
   "execution_count": 9,
   "metadata": {},
   "outputs": [
    {
     "name": "stdout",
     "output_type": "stream",
     "text": [
      "pip 23.0 from /Users/pattycha/Library/Python/3.8/lib/python/site-packages/pip (python 3.8)\n",
      "Note: you may need to restart the kernel to use updated packages.\n"
     ]
    }
   ],
   "source": [
    "pip --version"
   ]
  },
  {
   "cell_type": "code",
   "execution_count": null,
   "metadata": {},
   "outputs": [],
   "source": []
  }
 ],
 "metadata": {
  "kernelspec": {
   "display_name": "Python 3",
   "language": "python",
   "name": "python3"
  },
  "language_info": {
   "codemirror_mode": {
    "name": "ipython",
    "version": 3
   },
   "file_extension": ".py",
   "mimetype": "text/x-python",
   "name": "python",
   "nbconvert_exporter": "python",
   "pygments_lexer": "ipython3",
   "version": "3.8.9"
  },
  "orig_nbformat": 4,
  "vscode": {
   "interpreter": {
    "hash": "31f2aee4e71d21fbe5cf8b01ff0e069b9275f58929596ceb00d14d90e3e16cd6"
   }
  }
 },
 "nbformat": 4,
 "nbformat_minor": 2
}
