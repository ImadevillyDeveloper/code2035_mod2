{
 "cells": [
  {
   "cell_type": "code",
   "execution_count": 5,
   "metadata": {},
   "outputs": [
    {
     "name": "stdout",
     "output_type": "stream",
     "text": [
      "a : 3\n",
      "a : 3\n",
      "a : 3\n",
      "b : 3\n",
      "b : 3\n",
      "b : 3\n",
      "c : 2\n",
      "c : 2\n",
      "d : 6\n",
      "d : 6\n",
      "d : 6\n",
      "d : 6\n",
      "d : 6\n",
      "d : 6\n",
      "e : 7\n",
      "e : 7\n",
      "e : 7\n",
      "e : 7\n",
      "e : 7\n",
      "e : 7\n",
      "e : 7\n",
      "21 441\n"
     ]
    }
   ],
   "source": [
    "def strcounter(s):\n",
    "    slozhnost = 0\n",
    "    for symbol in s:\n",
    "        count = 0\n",
    "        for sub_symbol in s:\n",
    "            if symbol == sub_symbol:\n",
    "                count += 1\n",
    "            slozhnost += 1\n",
    "        print(symbol, \":\", count)\n",
    "    return slozhnost\n",
    "s = \"aaabbbccddddddeeeeeee\"\n",
    "sl = strcounter(s)\n",
    "n = len(s)\n",
    "print(n, sl)"
   ]
  }
 ],
 "metadata": {
  "kernelspec": {
   "display_name": "Python 3",
   "language": "python",
   "name": "python3"
  },
  "language_info": {
   "codemirror_mode": {
    "name": "ipython",
    "version": 3
   },
   "file_extension": ".py",
   "mimetype": "text/x-python",
   "name": "python",
   "nbconvert_exporter": "python",
   "pygments_lexer": "ipython3",
   "version": "3.11.1"
  },
  "orig_nbformat": 4
 },
 "nbformat": 4,
 "nbformat_minor": 2
}
