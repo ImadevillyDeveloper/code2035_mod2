{
 "cells": [
  {
   "cell_type": "code",
   "execution_count": 13,
   "metadata": {},
   "outputs": [
    {
     "name": "stdout",
     "output_type": "stream",
     "text": [
      "vk1.a.WszhTQ8I-htDoOKW_lpr_L627mEbRbC69VlvtbwVSAuCo43NNWbJT-CveKkQrJkYN1WlEhsupZXu_BsLQxKJ7ID6Bnxwx5yhpz1bjG3lxJETUozE54AY12q3t0E_B2fHcyDz3b1gDx2_sM7nQLIS7k8UYVL4mZ9BAH16tbz8TLQ_q7kKGVeuPIBTQwiHgorRwSvnQUFFLa_ycHkaVevetQ\n",
      "-к\n"
     ]
    }
   ],
   "source": [
    "#импорт библиотек\n",
    "import wiki\n",
    "import vk_api\n",
    "from course import get_course\n",
    "from vk_api.longpoll import VkLongPoll, VkEventType\n",
    "import random\n",
    "def send(txt):\n",
    "    vk.messages.send(user_id = user_id,random_id = random_id,message = txt)\n",
    "#чтения ключа из файла\n",
    "# with open(\"key.txt\",\"r\") as file:\n",
    "#     token = file.read()\n",
    "token = \"vk1.a.WszhTQ8I-htDoOKW_lpr_L627mEbRbC69VlvtbwVSAuCo43NNWbJT-CveKkQrJkYN1WlEhsupZXu_BsLQxKJ7ID6Bnxwx5yhpz1bjG3lxJETUozE54AY12q3t0E_B2fHcyDz3b1gDx2_sM7nQLIS7k8UYVL4mZ9BAH16tbz8TLQ_q7kKGVeuPIBTQwiHgorRwSvnQUFFLa_ycHkaVevetQ\"\n",
    "print(token)\n",
    "# подключение к вк лонгполл\n",
    "vk_session = vk_api.VkApi(token = token)\n",
    "vk = vk_session.get_api()\n",
    "longpoll = VkLongPoll(vk_session)\n",
    "\n",
    "for event in longpoll.listen():\n",
    "    if event.type == VkEventType.MESSAGE_NEW and event.to_me:\n",
    "        msg = event.text.lower()\n",
    "        user_id = event.user_id\n",
    "        random_id = random.randint(1,10**10)\n",
    "        print(msg)\n",
    "        if msg == \"-эхо\":\n",
    "            ans = \"эхо\"\n",
    "        elif msg.startswith(\"-в\"):\n",
    "            article = msg[2:]\n",
    "            ans = wiki.get_wiki_article(article)\n",
    "        elif msg.startswith(\"-к\"):\n",
    "            ans = \"{0} рублей за 1 доллар\\n{1} рублей за 1 евро\".format( get_course(\"R01235\"), get_course(\"R01239\"))\n",
    "        else:\n",
    "            ans = \"Неизвестная комманда\"\n",
    "        send(ans)\n"
   ]
  }
 ],
 "metadata": {
  "kernelspec": {
   "display_name": "Python 3",
   "language": "python",
   "name": "python3"
  },
  "language_info": {
   "codemirror_mode": {
    "name": "ipython",
    "version": 3
   },
   "file_extension": ".py",
   "mimetype": "text/x-python",
   "name": "python",
   "nbconvert_exporter": "python",
   "pygments_lexer": "ipython3",
   "version": "3.11.1"
  },
  "orig_nbformat": 4
 },
 "nbformat": 4,
 "nbformat_minor": 2
}
