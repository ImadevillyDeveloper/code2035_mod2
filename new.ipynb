{
 "cells": [
  {
   "cell_type": "code",
   "execution_count": 6,
   "metadata": {},
   "outputs": [
    {
     "name": "stdout",
     "output_type": "stream",
     "text": [
      "c : 2\n",
      "e : 7\n",
      "b : 3\n",
      "d : 6\n",
      "a : 3\n",
      "21 105\n"
     ]
    }
   ],
   "source": [
    "def strcounter(s):\n",
    "    slozhnost = 0\n",
    "    for symbol in set(s):\n",
    "        count = 0\n",
    "        for sub_symbol in s:\n",
    "            if symbol == sub_symbol:\n",
    "                count += 1\n",
    "            slozhnost += 1\n",
    "        print(symbol, \":\", count)\n",
    "    return slozhnost\n",
    "s = \"aaabbbccddddddeeeeeee\"\n",
    "sl = strcounter(s)\n",
    "n = len(s)\n",
    "print(n, sl)"
   ]
  },
  {
   "cell_type": "code",
   "execution_count": 7,
   "metadata": {},
   "outputs": [
    {
     "name": "stdout",
     "output_type": "stream",
     "text": [
      "[1, 2, 3, 4, 5, 6, 7, 8, 9]\n"
     ]
    }
   ],
   "source": [
    "def BubbleSort(A):\n",
    "    for j in range(len(A) - 1):\n",
    "        for i in range(len(A) - 1):\n",
    "            if A[i] > A[i + 1]:\n",
    "                A[i], A[i + 1] = A[i + 1], A[i]\n",
    "    return A\n",
    "A = [3, 2, 0, 1, 4, 5, 6, 7, 8, 9]\n",
    "l = (1,0)\n",
    "r = (4,5,6,8)\n",
    "print(BubbleSort(A))"
   ]
  },
  {
   "cell_type": "code",
   "execution_count": 11,
   "metadata": {},
   "outputs": [
    {
     "name": "stdout",
     "output_type": "stream",
     "text": [
      "q: 9\n",
      "q: 0\n",
      "q: 3\n",
      "q: 1\n",
      "q: 7\n",
      "q: 4\n",
      "q: 6\n",
      "[0, 1, 2, 3, 4, 5, 6, 7, 8, 9]\n"
     ]
    }
   ],
   "source": [
    "import random\n",
    "def qsort(A):\n",
    "    if len(A)<=1:\n",
    "        return A\n",
    "    else:\n",
    "        q = random.choice(A)\n",
    "        print(\"q:\", q)\n",
    "        s_nums = []\n",
    "        m_nums = []\n",
    "        e_nums = []\n",
    "        for i in A:\n",
    "            if i < q:\n",
    "                s_nums.append(i)\n",
    "            elif i > q:\n",
    "                m_nums.append(i)\n",
    "            else:\n",
    "                e_nums.append(i)\n",
    "        return qsort(s_nums) + e_nums + qsort(m_nums)\n",
    "A = [3, 2, 0, 1, 4, 5, 6, 7, 8, 9]\n",
    "print(qsort(A))"
   ]
  }
 ],
 "metadata": {
  "kernelspec": {
   "display_name": "Python 3",
   "language": "python",
   "name": "python3"
  },
  "language_info": {
   "codemirror_mode": {
    "name": "ipython",
    "version": 3
   },
   "file_extension": ".py",
   "mimetype": "text/x-python",
   "name": "python",
   "nbconvert_exporter": "python",
   "pygments_lexer": "ipython3",
   "version": "3.11.1"
  },
  "orig_nbformat": 4
 },
 "nbformat": 4,
 "nbformat_minor": 2
}
