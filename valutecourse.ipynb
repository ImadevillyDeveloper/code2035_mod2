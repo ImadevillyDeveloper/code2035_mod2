{
 "cells": [
  {
   "cell_type": "code",
   "execution_count": 2,
   "metadata": {},
   "outputs": [
    {
     "name": "stderr",
     "output_type": "stream",
     "text": [
      "/Users/pattycha/Library/Python/3.8/lib/python/site-packages/bs4/builder/__init__.py:545: XMLParsedAsHTMLWarning: It looks like you're parsing an XML document using an HTML parser. If this really is an HTML document (maybe it's XHTML?), you can ignore or filter this warning. If it's XML, you should know that using an XML parser will be more reliable. To parse this document as XML, make sure you have the lxml package installed, and pass the keyword argument `features=\"xml\"` into the BeautifulSoup constructor.\n",
      "  warnings.warn(\n"
     ]
    },
    {
     "name": "stdout",
     "output_type": "stream",
     "text": [
      "['AUD', 'AZN', 'GBP', 'AMD', 'BYN', 'BGN', 'BRL', 'HUF', 'VND', 'HKD', 'GEL', 'DKK', 'AED', 'USD', 'EUR', 'EGP', 'INR', 'IDR', 'KZT', 'CAD', 'QAR', 'KGS', 'CNY', 'MDL', 'NZD', 'NOK', 'PLN', 'RON', 'XDR', 'SGD', 'TJS', 'THB', 'TRY', 'TMT', 'UZS', 'UAH', 'CZK', 'SEK', 'CHF', 'RSD', 'ZAR', 'KRW', 'JPY', 'RUR']\n"
     ]
    },
    {
     "ename": "",
     "evalue": "",
     "output_type": "error",
     "traceback": [
      "\u001b[1;31mThe Kernel crashed while executing code in the the current cell or a previous cell. Please review the code in the cell(s) to identify a possible cause of the failure. Click <a href='https://aka.ms/vscodeJupyterKernelCrash'>here</a> for more info. View Jupyter <a href='command:jupyter.viewOutput'>log</a> for further details."
     ]
    }
   ],
   "source": [
    "from tkinter import *\n",
    "import requests\n",
    "from bs4 import BeautifulSoup as bs\n",
    "from datetime import datetime\n",
    "from tkinter import ttk\n",
    "\n",
    "def get_chr():\n",
    "    l=responce.text.split(\"<CharCode>\")[1:]\n",
    "    k=[]\n",
    "    for i in l:\n",
    "        k.append(i.split('</CharCode>'[0][:3]))\n",
    "    n = [i[0] for i in k]\n",
    "    n.append(\"RUR\")\n",
    "    return n\n",
    "\n",
    "\n",
    "def get_val(ch):\n",
    "\tif ch == \"RUR\": return (\"Российский рубль\",1,1)\n",
    "\tif ch not in responce.text: return False\n",
    "\ta = responce.text.split(ch)[1]\n",
    "\tb = a.split(\"</Valute>\")[0]\n",
    "\tnom = b.split(\"<Nominal>\")[1].split(\"</Nominal>\")[0]\n",
    "\tname = b.split(\"<Name>\")[1].split(\"</Name>\")[0]\n",
    "\tval = b.split(\"<Value>\")[1].split(\"</Value>\")[0]\n",
    "\treturn (name,int(nom),float(val.replace(\",\",\".\")))\n",
    "\n",
    "def converter(valute_from,valute_to, amount):\n",
    "\tvalute_from = get_val(valute_from)\n",
    "\tvalute_to = get_val(valute_to)\n",
    "\tif valute_to!=False and valute_from!=False:\n",
    "\t\ta = amount*valute_from[2]/valute_from[1]\n",
    "\t\tb = a*valute_to[1]/valute_to[2]\n",
    "\t\treturn f\"За {amount} {valute_from[0]}  вы получите {b} {valute_to[0]}\"\n",
    "\telse:\n",
    "\t\treturn \"Валюта не найдена\"\n",
    "\n",
    "\n",
    "def new_win():\n",
    "    a=Toplevel(root)\n",
    "    languages = [\"Python\", \"C#\", \"Java\", \"JavaScript\"]\n",
    "    combobox = ttk.Combobox(values=languages)\n",
    "    combobox.place(x=100,y=350)\n",
    "\n",
    "root = Tk()\n",
    "root.title(\"Valute course\")\n",
    "root.geometry(\"400x400+300+300\")\n",
    "root[\"bg\"]=\"gold\"\n",
    "root.resizable(False,False)\n",
    "\n",
    "url = \"http://www.cbr.ru/scripts/XML_daily.asp\"\n",
    "today = datetime.today()\n",
    "today = today.strftime(\"%d/%m/%Y\")\n",
    "payload = {\"date_req\":today}\n",
    "responce = requests.get(url, params=payload)\n",
    "# print(responce.text)\n",
    "xml = bs(responce.content,\"lxml\")\n",
    "def getCourse(id):\n",
    "    return xml.find(\"valute\", {\"id\": id}).value.text\n",
    "\n",
    "img_logo = PhotoImage(file = \"logo.gif\")\n",
    "logo = Label(root, image=img_logo,bg=\"gold\")\n",
    "logo.place(x=0,y=0)\n",
    "lab = Label(root, text = \"Курс валют \\n MAXIMUM BANK\",bg=\"Blue\", fg = \"Yellow\",font=(\"Courier\",16))\n",
    "lab.place(y = 25, x = 150)\n",
    "\n",
    "course_info = Label(root, text = f\"Course on: {today.replace('/','.')}\",bg=\"Green\", fg = \"Black\")\n",
    "course_info.place(x=90,y=150)\n",
    "\n",
    "course_usd = Label(root, text = f\"$ {getCourse('R01235')}\")\n",
    "course_usd.place(x=100,y=190)\n",
    "\n",
    "course_eur = Label(root, text = f\"€ {getCourse('R01239')}\")\n",
    "course_eur.place(x=100,y=230)\n",
    "\n",
    "course_uan = Label(root, text = f\"¥ {getCourse('R01375')} for 10\")\n",
    "course_uan.place(x=100,y=270)\n",
    "b = Button(root, text=\"Перевод валюты\", command=new_win)\n",
    "b.place(x=100,y=320)\n",
    "get_chr()\n",
    "\n",
    "root.mainloop()"
   ]
  }
 ],
 "metadata": {
  "kernelspec": {
   "display_name": "Python 3",
   "language": "python",
   "name": "python3"
  },
  "language_info": {
   "codemirror_mode": {
    "name": "ipython",
    "version": 3
   },
   "file_extension": ".py",
   "mimetype": "text/x-python",
   "name": "python",
   "nbconvert_exporter": "python",
   "pygments_lexer": "ipython3",
   "version": "3.8.9 (default, Oct 26 2021, 07:25:54) \n[Clang 13.0.0 (clang-1300.0.29.30)]"
  },
  "orig_nbformat": 4,
  "vscode": {
   "interpreter": {
    "hash": "31f2aee4e71d21fbe5cf8b01ff0e069b9275f58929596ceb00d14d90e3e16cd6"
   }
  }
 },
 "nbformat": 4,
 "nbformat_minor": 2
}
