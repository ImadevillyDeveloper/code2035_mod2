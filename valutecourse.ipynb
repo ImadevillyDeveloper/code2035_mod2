{
 "cells": [
  {
   "cell_type": "code",
   "execution_count": 1,
   "metadata": {},
   "outputs": [
    {
     "name": "stderr",
     "output_type": "stream",
     "text": [
      "/Users/pattycha/Library/Python/3.8/lib/python/site-packages/bs4/builder/__init__.py:545: XMLParsedAsHTMLWarning: It looks like you're parsing an XML document using an HTML parser. If this really is an HTML document (maybe it's XHTML?), you can ignore or filter this warning. If it's XML, you should know that using an XML parser will be more reliable. To parse this document as XML, make sure you have the lxml package installed, and pass the keyword argument `features=\"xml\"` into the BeautifulSoup constructor.\n",
      "  warnings.warn(\n"
     ]
    }
   ],
   "source": [
    "from tkinter import *\n",
    "import requests\n",
    "from bs4 import BeautifulSoup as bs\n",
    "from datetime import datetime\n",
    "\n",
    "\n",
    "root = Tk()\n",
    "root.title(\"Valute course\")\n",
    "root.geometry(\"400x350+300+300\")\n",
    "\n",
    "url = \"http://www.cbr.ru/scripts/XML_daily.asp\"\n",
    "today = datetime.today()\n",
    "today.strftime(\"%d/%m/%Y\")\n",
    "payload = {\"date_req\":today}\n",
    "responce = requests.get(url, params=payload)\n",
    "xml = bs(responce.content,\"lxml\")\n",
    "\n",
    "def getCourse(id):\n",
    "    return xml.find(\"valute\", {\"id\": id}).value.text\n",
    "\n",
    "img_logo = PhotoImage(file = \"logo.gif\")\n",
    "logo = Label(root, image=img_logo)\n",
    "logo.place(x=0,y=0)\n",
    "lab = Label(root, text = \"Курс валют \\n MAXIMUM BANK\", fg = \"black\",font=(\"Courier\",16))\n",
    "lab.place(y = 25, x = 150)\n",
    "\n",
    "\n",
    "\n",
    "\n",
    "root.mainloop()"
   ]
  }
 ],
 "metadata": {
  "kernelspec": {
   "display_name": "Python 3",
   "language": "python",
   "name": "python3"
  },
  "language_info": {
   "codemirror_mode": {
    "name": "ipython",
    "version": 3
   },
   "file_extension": ".py",
   "mimetype": "text/x-python",
   "name": "python",
   "nbconvert_exporter": "python",
   "pygments_lexer": "ipython3",
   "version": "3.8.9"
  },
  "orig_nbformat": 4,
  "vscode": {
   "interpreter": {
    "hash": "31f2aee4e71d21fbe5cf8b01ff0e069b9275f58929596ceb00d14d90e3e16cd6"
   }
  }
 },
 "nbformat": 4,
 "nbformat_minor": 2
}
