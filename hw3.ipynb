{
 "cells": [
  {
   "cell_type": "code",
   "execution_count": 6,
   "metadata": {},
   "outputs": [],
   "source": [
    "from tkinter import *\n",
    "\n",
    "window = Tk()\n",
    "window.geometry('800x600')\n",
    "\n",
    "\n",
    "canvas = Canvas(window, width=800,height=600,bg='white')\n",
    "canvas.pack()\n",
    "class chtree:\n",
    "    def __init__(self,x,y):\n",
    "        self.roof = canvas.create_polygon(x, y, x + 100, y, x + 100/2, y - 100, fill=\"green\")\n",
    "        self.roof = canvas.create_polygon(x, y+50, x + 100, y+50, x + 100/2, y - 100+50, fill=\"green\")\n",
    "        self.roof = canvas.create_polygon(x, y+100, x + 100, y+100, x + 100/2, y - 100+100, fill=\"green\")\n",
    "house_1 = chtree(100,400)\n",
    "\n",
    "window.mainloop()"
   ]
  },
  {
   "cell_type": "code",
   "execution_count": null,
   "metadata": {},
   "outputs": [],
   "source": [
    "from random import randint\n",
    "from time import sleep\n",
    "class Game(object):\n",
    "    def __init__(self,health1,health2,damage):\n",
    "        self.health1 = health1\n",
    "        self.health2 = health2\n",
    "        self.damage = damage\n",
    "        pass\n",
    "    def Start(self):\n",
    "        while True:\n",
    "            if self.health1 == 0:\n",
    "                print(\"Воин 2 победил!\")\n",
    "                break\n",
    "            elif self.health2 == 0:\n",
    "                print(\"Воин 1 победил!\")\n",
    "                break\n",
    "            Attacher = randint(0,1)\n",
    "            if Attacher == 1:\n",
    "                self.health2 -= self.damage\n",
    "                print(f\"Воин 1[health {self.health1}] атакавал Воина 2[health {self.health2}]\")\n",
    "            else:\n",
    "                self.health1 -= self.damage\n",
    "                print(f\"Воин 2[health {self.health2}] атакавал Воина 1[health {self.health1}]\")\n",
    "            sleep(1)\n",
    "Game = Game(100,100,20)\n",
    "Game.Start()\n"
   ]
  },
  {
   "cell_type": "code",
   "execution_count": 7,
   "metadata": {},
   "outputs": [
    {
     "name": "stdout",
     "output_type": "stream",
     "text": [
      "Воин1 атаковал Воин2\n",
      "У Воин2 осталось здоровья 80\n",
      "Воин1 атаковал Воин2\n",
      "У Воин2 осталось здоровья 60\n",
      "Воин1 атаковал Воин2\n",
      "У Воин2 осталось здоровья 40\n",
      "Воин1 атаковал Воин2\n",
      "У Воин2 осталось здоровья 20\n",
      "Воин2 атаковал Воин1\n",
      "У Воин1 осталось здоровья 80\n",
      "Воин2 атаковал Воин1\n",
      "У Воин1 осталось здоровья 60\n",
      "Воин1 атаковал Воин2\n",
      "У Воин2 осталось здоровья 0\n",
      "Воин1 победил!!!\n"
     ]
    }
   ],
   "source": [
    "import random\n",
    "\n",
    "class Warrior:\n",
    "    def __init__(self, name, health=100):\n",
    "        self.name = name\n",
    "        self.health = health\n",
    "\n",
    "    def hit(self, target):\n",
    "        if type(self) == type(target):\n",
    "            target.health -= 20\n",
    "        else:\n",
    "            raise TypeError\n",
    "\n",
    "warriors = [Warrior('Воин1'), Warrior('Воин2')]\n",
    "while True:\n",
    "    q = input('Введите 1, чтобы какой-то воин атаковал. Для закрытия программы введите 2: ')\n",
    "    if q == '1':\n",
    "        i = random.randint(0, 1)\n",
    "        attacker, victim = warriors[i], warriors[i - 1]\n",
    "        attacker.hit(victim)\n",
    "        print(attacker.name, 'атаковал', victim.name)\n",
    "        print('У', victim.name, 'осталось здоровья', victim.health)\n",
    "        if victim.health <= 0:\n",
    "            print(attacker.name, 'победил!!!')\n",
    "            break\n",
    "    elif q == '2':\n",
    "        break\n",
    "    else:\n",
    "        print('Ошибка ввода')"
   ]
  },
  {
   "cell_type": "code",
   "execution_count": 1,
   "metadata": {},
   "outputs": [
    {
     "name": "stdout",
     "output_type": "stream",
     "text": [
      "Дерево номер 1\n",
      "Цвет ярусов: green\n",
      "Цвет ствола: brown\n"
     ]
    },
    {
     "ename": "SystemExit",
     "evalue": "0",
     "output_type": "error",
     "traceback": [
      "An exception has occurred, use %tb to see the full traceback.\n",
      "\u001b[0;31mSystemExit\u001b[0m\u001b[0;31m:\u001b[0m 0\n"
     ]
    },
    {
     "name": "stderr",
     "output_type": "stream",
     "text": [
      "/Users/pattycha/Library/Python/3.8/lib/python/site-packages/IPython/core/interactiveshell.py:3406: UserWarning: To exit: use 'exit', 'quit', or Ctrl-D.\n",
      "  warn(\"To exit: use 'exit', 'quit', or Ctrl-D.\", stacklevel=1)\n"
     ]
    },
    {
     "ename": "",
     "evalue": "",
     "output_type": "error",
     "traceback": [
      "\u001b[1;31mThe Kernel crashed while executing code in the the current cell or a previous cell. Please review the code in the cell(s) to identify a possible cause of the failure. Click <a href='https://aka.ms/vscodeJupyterKernelCrash'>here</a> for more info. View Jupyter <a href='command:jupyter.viewOutput'>log</a> for further details."
     ]
    }
   ],
   "source": [
    "from tkinter import *\n",
    "\n",
    "window = Tk()\n",
    "window.geometry('800x600')\n",
    "\n",
    "\n",
    "canvas = Canvas(window, width=800,height=600,bg='white')\n",
    "canvas.pack()\n",
    "class Tree:\n",
    "    def __init__(self,tree_color,trunk_color, number):\n",
    "        self.number = number\n",
    "        self.tree_color = tree_color\n",
    "        self.trunk_color = trunk_color\n",
    "\n",
    "    def build_tree(self, x, y):\n",
    "        canvas.create_polygon(x+100, y+100, x+200, y, x+300, y+100, fill=self.tree_color)\n",
    "        canvas.create_polygon(x+50, y+200, x+200, y+100, x+350, y+200, fill=self.tree_color)\n",
    "        canvas.create_polygon(x, y+300, x+200, y+200, x+400, y+300, fill=self.tree_color)\n",
    "        canvas.create_rectangle(x+150, y+300, x + 250, y + 400, fill=self.trunk_color, outline='')\n",
    "    def print_info(self):\n",
    "        print('Дерево номер ' + str(self.number))\n",
    "        print('Цвет ярусов: ' + self.tree_color)\n",
    "        print('Цвет ствола: ' + self.trunk_color)\n",
    "\n",
    "tree_1 = Tree('green', 'brown', 1)\n",
    "tree_1.build_tree(50, 50)\n",
    "tree_1.print_info()\n",
    "window.mainloop()"
   ]
  }
 ],
 "metadata": {
  "kernelspec": {
   "display_name": "Python 3",
   "language": "python",
   "name": "python3"
  },
  "language_info": {
   "codemirror_mode": {
    "name": "ipython",
    "version": 3
   },
   "file_extension": ".py",
   "mimetype": "text/x-python",
   "name": "python",
   "nbconvert_exporter": "python",
   "pygments_lexer": "ipython3",
   "version": "3.8.9"
  },
  "orig_nbformat": 4,
  "vscode": {
   "interpreter": {
    "hash": "31f2aee4e71d21fbe5cf8b01ff0e069b9275f58929596ceb00d14d90e3e16cd6"
   }
  }
 },
 "nbformat": 4,
 "nbformat_minor": 2
}
