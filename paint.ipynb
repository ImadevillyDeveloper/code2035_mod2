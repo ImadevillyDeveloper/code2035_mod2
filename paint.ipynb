{
 "cells": [
  {
   "cell_type": "code",
   "execution_count": 8,
   "metadata": {},
   "outputs": [],
   "source": [
    "from tkinter import *\n",
    "\n",
    "root = Tk()\n",
    "root.geometry(\"800x600+100+100\")\n",
    "\n",
    "canvas = Canvas(root, width=900, height=600, bg='white')\n",
    "canvas.pack()\n",
    "canvas.create_rectangle(20,20,20,20,fill='yellow',outline='black')\n",
    "canvas.create_rectangle(20,20,20,20,fill='blue',outline='black')\n",
    "canvas.create_rectangle(40,40,40,40,fill='pink',outline='black')\n",
    "canvas.create_rectangle(60,60,60,60,fill='black',outline='black')\n",
    "\n",
    "\n",
    "root.mainloop()"
   ]
  }
 ],
 "metadata": {
  "kernelspec": {
   "display_name": "Python 3",
   "language": "python",
   "name": "python3"
  },
  "language_info": {
   "codemirror_mode": {
    "name": "ipython",
    "version": 3
   },
   "file_extension": ".py",
   "mimetype": "text/x-python",
   "name": "python",
   "nbconvert_exporter": "python",
   "pygments_lexer": "ipython3",
   "version": "3.8.9"
  },
  "orig_nbformat": 4,
  "vscode": {
   "interpreter": {
    "hash": "31f2aee4e71d21fbe5cf8b01ff0e069b9275f58929596ceb00d14d90e3e16cd6"
   }
  }
 },
 "nbformat": 4,
 "nbformat_minor": 2
}
