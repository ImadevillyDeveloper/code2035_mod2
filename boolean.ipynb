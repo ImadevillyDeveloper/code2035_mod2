{
 "cells": [
  {
   "cell_type": "code",
   "execution_count": 3,
   "metadata": {},
   "outputs": [
    {
     "name": "stdout",
     "output_type": "stream",
     "text": [
      "True\n"
     ]
    }
   ],
   "source": [
    "var_1 = True\n",
    "var_2 = False\n",
    "print(type(var_1))\n",
    "\n",
    "var_1 = 5 > 1\n",
    "print(var_1)\n",
    "if False:\n",
    "      pass\n",
    "else:\n",
    "      print(\"Условие не выполнилось\")\n",
    "\n",
    "hour = 1\n",
    "\n",
    "if hour > 12 and hour <= 16:\n",
    "\tprint(\"День\")\n",
    "elif hour > 16 and hour <=23:\n",
    "\tprint(\"Вечер\")\n",
    "elif hour > 23 or hour <= 3:\n",
    "\tprint(\"Ночь\")\n",
    "elif hour > 3 and hour <= 12:\n",
    "\tprint(\"Утро\")\n",
    "\n",
    "a = int(input())\n",
    "b = int(input())\n",
    "c = int(input())\n",
    "\n",
    "if a > b and b >= c:\n",
    "\tprint(a, c)\n",
    "elif a > b and a >= c:\n",
    "\tprint(a, b)\n",
    "\n",
    "# или второй вариант\t\n",
    "print(max(a, b, c))\n",
    "print(min(a, b, c))"
   ]
  }
 ],
 "metadata": {
  "kernelspec": {
   "display_name": "Python 3",
   "language": "python",
   "name": "python3"
  },
  "language_info": {
   "codemirror_mode": {
    "name": "ipython",
    "version": 3
   },
   "file_extension": ".py",
   "mimetype": "text/x-python",
   "name": "python",
   "nbconvert_exporter": "python",
   "pygments_lexer": "ipython3",
   "version": "3.8.9 (default, Oct 26 2021, 07:25:54) \n[Clang 13.0.0 (clang-1300.0.29.30)]"
  },
  "orig_nbformat": 4,
  "vscode": {
   "interpreter": {
    "hash": "31f2aee4e71d21fbe5cf8b01ff0e069b9275f58929596ceb00d14d90e3e16cd6"
   }
  }
 },
 "nbformat": 4,
 "nbformat_minor": 2
}
