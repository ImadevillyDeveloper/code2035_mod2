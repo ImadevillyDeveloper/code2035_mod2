{
 "cells": [
  {
   "cell_type": "code",
   "execution_count": 18,
   "metadata": {},
   "outputs": [
    {
     "name": "stdout",
     "output_type": "stream",
     "text": [
      "1\n",
      "(2, 3, 4, 5, 6)\n",
      "{'c': 7, 'd': 8}\n"
     ]
    }
   ],
   "source": [
    "def output(a,*args,**kwargs):\n",
    "    print(a)\n",
    "    print(args)\n",
    "    print(kwargs)\n",
    "    c = kwargs.get(\"c\")\n",
    "\n",
    "output(1,2,3,4,5,6,c=7,d=8)"
   ]
  },
  {
   "cell_type": "code",
   "execution_count": 21,
   "metadata": {},
   "outputs": [
    {
     "name": "stdout",
     "output_type": "stream",
     "text": [
      "[1.0, 1.4142135623730951, 1.7320508075688772, 2.0, 2.23606797749979]\n"
     ]
    }
   ],
   "source": [
    "def sqr(x):\n",
    "    return x**2\n",
    "def sqrt(x):\n",
    "    return x**(0.5)\n",
    "def mapping(f,*args):\n",
    "    a = []\n",
    "    for i in args:\n",
    "        a.append(f(i))\n",
    "    return a\n",
    "l = mapping(sqrt,1,2,3,4,5)\n",
    "print(l)"
   ]
  }
 ],
 "metadata": {
  "kernelspec": {
   "display_name": "Python 3",
   "language": "python",
   "name": "python3"
  },
  "language_info": {
   "codemirror_mode": {
    "name": "ipython",
    "version": 3
   },
   "file_extension": ".py",
   "mimetype": "text/x-python",
   "name": "python",
   "nbconvert_exporter": "python",
   "pygments_lexer": "ipython3",
   "version": "3.11.1"
  },
  "orig_nbformat": 4,
  "vscode": {
   "interpreter": {
    "hash": "aee8b7b246df8f9039afb4144a1f6fd8d2ca17a180786b69acc140d282b71a49"
   }
  }
 },
 "nbformat": 4,
 "nbformat_minor": 2
}
