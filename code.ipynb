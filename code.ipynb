{
 "cells": [
  {
   "cell_type": "code",
   "execution_count": 5,
   "metadata": {},
   "outputs": [
    {
     "ename": "UnboundLocalError",
     "evalue": "local variable 'a' referenced before assignment",
     "output_type": "error",
     "traceback": [
      "\u001b[0;31m---------------------------------------------------------------------------\u001b[0m",
      "\u001b[0;31mUnboundLocalError\u001b[0m                         Traceback (most recent call last)",
      "\u001b[1;32m/Users/pattycha/code2035_mod2-5/code.ipynb Cell 1\u001b[0m in \u001b[0;36m<cell line: 30>\u001b[0;34m()\u001b[0m\n\u001b[1;32m     <a href='vscode-notebook-cell:/Users/pattycha/code2035_mod2-5/code.ipynb#W1sZmlsZQ%3D%3D?line=26'>27</a>\u001b[0m     \u001b[39mdef\u001b[39;00m \u001b[39mstop\u001b[39m(\u001b[39mself\u001b[39m,event):\n\u001b[1;32m     <a href='vscode-notebook-cell:/Users/pattycha/code2035_mod2-5/code.ipynb#W1sZmlsZQ%3D%3D?line=27'>28</a>\u001b[0m         \u001b[39mself\u001b[39m\u001b[39m.\u001b[39mv\u001b[39m=\u001b[39m\u001b[39m0\u001b[39m\n\u001b[0;32m---> <a href='vscode-notebook-cell:/Users/pattycha/code2035_mod2-5/code.ipynb#W1sZmlsZQ%3D%3D?line=29'>30</a>\u001b[0m knight\u001b[39m=\u001b[39mKnight()\n\u001b[1;32m     <a href='vscode-notebook-cell:/Users/pattycha/code2035_mod2-5/code.ipynb#W1sZmlsZQ%3D%3D?line=31'>32</a>\u001b[0m window\u001b[39m.\u001b[39mmainloop()\n",
      "\u001b[1;32m/Users/pattycha/code2035_mod2-5/code.ipynb Cell 1\u001b[0m in \u001b[0;36mKnight.__init__\u001b[0;34m(self)\u001b[0m\n\u001b[1;32m     <a href='vscode-notebook-cell:/Users/pattycha/code2035_mod2-5/code.ipynb#W1sZmlsZQ%3D%3D?line=17'>18</a>\u001b[0m \u001b[39mself\u001b[39m\u001b[39m.\u001b[39my\u001b[39m=\u001b[39mh\u001b[39m/\u001b[39m\u001b[39m/\u001b[39m\u001b[39m2\u001b[39m\n\u001b[1;32m     <a href='vscode-notebook-cell:/Users/pattycha/code2035_mod2-5/code.ipynb#W1sZmlsZQ%3D%3D?line=18'>19</a>\u001b[0m \u001b[39mself\u001b[39m\u001b[39m.\u001b[39mv\u001b[39m=\u001b[39m\u001b[39m0\u001b[39m\n\u001b[0;32m---> <a href='vscode-notebook-cell:/Users/pattycha/code2035_mod2-5/code.ipynb#W1sZmlsZQ%3D%3D?line=19'>20</a>\u001b[0m a\u001b[39m+\u001b[39m\u001b[39m=\u001b[39m\u001b[39m1\u001b[39m\n\u001b[1;32m     <a href='vscode-notebook-cell:/Users/pattycha/code2035_mod2-5/code.ipynb#W1sZmlsZQ%3D%3D?line=20'>21</a>\u001b[0m \u001b[39mself\u001b[39m\u001b[39m.\u001b[39mphoto\u001b[39m=\u001b[39mPhotoImage(file\u001b[39m=\u001b[39m\u001b[39m\"\u001b[39m\u001b[39mknight.gif\u001b[39m\u001b[39m\"\u001b[39m)\n",
      "\u001b[0;31mUnboundLocalError\u001b[0m: local variable 'a' referenced before assignment"
     ]
    }
   ],
   "source": [
    "import random\n",
    "from tkinter import *\n",
    "\n",
    "window =Tk()\n",
    "\n",
    "w = 600\n",
    "h = 600\n",
    "\n",
    "window.geometry(f\"{w}x{h}\")\n",
    "canvas = Canvas(window,width=w,height=h)\n",
    "canvas.place(x=0,y=0)\n",
    "bg_photo = PhotoImage(file=\"bg_2.gif\")\n",
    "\n",
    "class Knight():\n",
    "    a=0\n",
    "    def __init__(self):\n",
    "        self.x=70\n",
    "        self.y=h//2\n",
    "        self.v=0\n",
    "        Knight.a+=1\n",
    "        self.photo=PhotoImage(file=\"knight.gif\")\n",
    "\n",
    "    def up(self,event):\n",
    "        self.v=-3\n",
    "    def down(self,event):\n",
    "        self.v=3\n",
    "    def stop(self,event):\n",
    "        self.v=0\n",
    "\n",
    "knight=Knight()\n",
    "\n",
    "window.mainloop()"
   ]
  }
 ],
 "metadata": {
  "kernelspec": {
   "display_name": "Python 3",
   "language": "python",
   "name": "python3"
  },
  "language_info": {
   "codemirror_mode": {
    "name": "ipython",
    "version": 3
   },
   "file_extension": ".py",
   "mimetype": "text/x-python",
   "name": "python",
   "nbconvert_exporter": "python",
   "pygments_lexer": "ipython3",
   "version": "3.8.9"
  },
  "orig_nbformat": 4,
  "vscode": {
   "interpreter": {
    "hash": "31f2aee4e71d21fbe5cf8b01ff0e069b9275f58929596ceb00d14d90e3e16cd6"
   }
  }
 },
 "nbformat": 4,
 "nbformat_minor": 2
}
