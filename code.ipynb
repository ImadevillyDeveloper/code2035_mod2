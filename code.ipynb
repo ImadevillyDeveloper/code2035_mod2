{
 "cells": [
  {
   "cell_type": "code",
   "execution_count": 35,
   "metadata": {},
   "outputs": [
    {
     "name": "stdout",
     "output_type": "stream",
     "text": [
      "365\n",
      "Весна\n"
     ]
    }
   ],
   "source": [
    "class Year:\n",
    "    def __init__(self,days,season):\n",
    "        self.__days = days\n",
    "        self.__season = season\n",
    "    @property\n",
    "    def days(self):\n",
    "        return self.__days\n",
    "    @days.setter\n",
    "    def days(self,x):\n",
    "        if x == 365 or x == 366:\n",
    "            self.__days = x\n",
    "        else:\n",
    "            raise Exception(\"Wrong value\")\n",
    "        \n",
    "    def get_days(self):\n",
    "        return self.__days\n",
    "    @property\n",
    "    def season(self):\n",
    "        return self.__season\n",
    "    @season.setter\n",
    "    def season(self,x):\n",
    "        self.__season = x\n",
    "\n",
    "\n",
    "y = Year(36, \"Весна\")\n",
    "y.days = 365\n",
    "print(y.days)\n",
    "print(y.season)"
   ]
  },
  {
   "cell_type": "code",
   "execution_count": 32,
   "metadata": {},
   "outputs": [
    {
     "name": "stdout",
     "output_type": "stream",
     "text": [
      "Валера\n"
     ]
    },
    {
     "ename": "ValueError",
     "evalue": "You were not born yet",
     "output_type": "error",
     "traceback": [
      "\u001b[0;31m---------------------------------------------------------------------------\u001b[0m",
      "\u001b[0;31mValueError\u001b[0m                                Traceback (most recent call last)",
      "Cell \u001b[0;32mIn[32], line 25\u001b[0m\n\u001b[1;32m     23\u001b[0m \u001b[39mprint\u001b[39m(pers\u001b[39m.\u001b[39mname)\n\u001b[1;32m     24\u001b[0m pers\u001b[39m.\u001b[39mname \u001b[39m=\u001b[39m \u001b[39m\"\u001b[39m\u001b[39mОлег\u001b[39m\u001b[39m\"\u001b[39m\n\u001b[0;32m---> 25\u001b[0m pers\u001b[39m.\u001b[39;49mage \u001b[39m=\u001b[39m \u001b[39m-\u001b[39m\u001b[39m10\u001b[39m\n\u001b[1;32m     26\u001b[0m \u001b[39mprint\u001b[39m(pers\u001b[39m.\u001b[39mname)\n\u001b[1;32m     27\u001b[0m \u001b[39mprint\u001b[39m(pers\u001b[39m.\u001b[39mage)\n",
      "Cell \u001b[0;32mIn[32], line 17\u001b[0m, in \u001b[0;36mPerson.age\u001b[0;34m(self, age)\u001b[0m\n\u001b[1;32m     14\u001b[0m \u001b[39m@age\u001b[39m\u001b[39m.\u001b[39msetter\n\u001b[1;32m     15\u001b[0m \u001b[39mdef\u001b[39;00m \u001b[39mage\u001b[39m(\u001b[39mself\u001b[39m,age):\n\u001b[1;32m     16\u001b[0m     \u001b[39mif\u001b[39;00m age\u001b[39m<\u001b[39m\u001b[39m=\u001b[39m\u001b[39m0\u001b[39m:\n\u001b[0;32m---> 17\u001b[0m         \u001b[39mraise\u001b[39;00m \u001b[39mValueError\u001b[39;00m(\u001b[39m\"\u001b[39m\u001b[39mYou were not born yet\u001b[39m\u001b[39m\"\u001b[39m)\n\u001b[1;32m     18\u001b[0m     \u001b[39mself\u001b[39m\u001b[39m.\u001b[39m__age \u001b[39m=\u001b[39m age\n",
      "\u001b[0;31mValueError\u001b[0m: You were not born yet"
     ]
    }
   ],
   "source": [
    "class Person:\n",
    "    def __init__(self,name,age):\n",
    "        self.__name = name\n",
    "        self.__age = age\n",
    "    @property\n",
    "    def name(self):\n",
    "        return self.__name\n",
    "    @name.setter\n",
    "    def name(self,name):\n",
    "        self.__name = name\n",
    "    @property\n",
    "    def age(self):\n",
    "        return self.__age\n",
    "    @age.setter\n",
    "    def age(self,age):\n",
    "        if age<=0:\n",
    "            raise ValueError(\"You were not born yet\")\n",
    "        self.__age = age\n",
    "\n",
    "\n",
    "\n",
    "pers = Person(\"Валера\",-10)\n",
    "print(pers.name)\n",
    "pers.name = \"Олег\"\n",
    "pers.age = -10\n",
    "print(pers.name)\n",
    "print(pers.age)"
   ]
  }
 ],
 "metadata": {
  "kernelspec": {
   "display_name": "Python 3",
   "language": "python",
   "name": "python3"
  },
  "language_info": {
   "codemirror_mode": {
    "name": "ipython",
    "version": 3
   },
   "file_extension": ".py",
   "mimetype": "text/x-python",
   "name": "python",
   "nbconvert_exporter": "python",
   "pygments_lexer": "ipython3",
   "version": "3.11.1"
  },
  "orig_nbformat": 4
 },
 "nbformat": 4,
 "nbformat_minor": 2
}
