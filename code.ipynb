{
 "cells": [
  {
   "cell_type": "code",
   "execution_count": 8,
   "metadata": {},
   "outputs": [
    {
     "name": "stdout",
     "output_type": "stream",
     "text": [
      "70 300 0\n"
     ]
    }
   ],
   "source": [
    "import random\n",
    "from tkinter import *\n",
    "\n",
    "window =Tk()\n",
    "\n",
    "w = 600\n",
    "h = 600\n",
    "\n",
    "window.geometry(f\"{w}x{h}\")\n",
    "canvas = Canvas(window,width=w,height=h)\n",
    "canvas.place(x=0,y=0)\n",
    "bg_photo = PhotoImage(file=\"bg_2.gif\")\n",
    "\n",
    "class Knight():\n",
    "    def __init__(self):\n",
    "        self.x=70\n",
    "        self.y=h//2\n",
    "        self.v=0\n",
    "        self.photo=PhotoImage(file=\"knight.gif\")\n",
    "\n",
    "    def up(self,event):\n",
    "        self.v=-3\n",
    "    def down(self,event):\n",
    "        self.v=3\n",
    "    def stop(self,event):\n",
    "        self.v=0\n",
    "\n",
    "class Dragon:\n",
    "    def __init__(self):\n",
    "        self.x=750\n",
    "        self.y=random.randint(100,500)\n",
    "        self.v=random.randint(1,3)\n",
    "        self.photo=PhotoImage(file=\"dragon.gif\")\n",
    "\n",
    "\n",
    "knight=Knight()\n",
    "dragons=[Dragon() for i in range(3)]\n",
    "\n",
    "\n",
    "def game():\n",
    "    canvas.delete('all')\n",
    "    canvas.create_image(300,300,image=bg_photo)\n",
    "    canvas.create_image(knight.x,knight.x,image=knight.photo)\n",
    "\n",
    "\n",
    "\n",
    "window.bind(\"<Key-Up>\",knight.up)\n",
    "window.bind(\"<Key-Down>\",knight.down)\n",
    "window.bind(\"<KeyRelease>\",knight.stop)\n",
    "window.mainloop()"
   ]
  }
 ],
 "metadata": {
  "kernelspec": {
   "display_name": "Python 3",
   "language": "python",
   "name": "python3"
  },
  "language_info": {
   "codemirror_mode": {
    "name": "ipython",
    "version": 3
   },
   "file_extension": ".py",
   "mimetype": "text/x-python",
   "name": "python",
   "nbconvert_exporter": "python",
   "pygments_lexer": "ipython3",
   "version": "3.8.9"
  },
  "orig_nbformat": 4,
  "vscode": {
   "interpreter": {
    "hash": "31f2aee4e71d21fbe5cf8b01ff0e069b9275f58929596ceb00d14d90e3e16cd6"
   }
  }
 },
 "nbformat": 4,
 "nbformat_minor": 2
}
